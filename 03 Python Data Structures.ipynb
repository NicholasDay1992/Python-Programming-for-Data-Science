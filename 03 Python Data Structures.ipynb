{
  "cells": [
    {
      "cell_type": "markdown",
      "id": "d5ab5277",
      "metadata": {},
      "source": [
        "<!-- <img src=\"https://www.conted.ox.ac.uk/www/static/images/oudce_logo.svg\" alt=\"OXF_logo_HTML\" width=\"300\"> \n",
        "-->\n",
        "\n",
        "<img src=\"data:image/png;base64,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\" alt=\"OXF_logo_HTML\" width=\"300\"> \n",
        "\n",
        "<h1>Python Programming for Data Science Introduction</h1>\n",
        "Weekly Oxford Worldwide (WOW) Course Format\n",
        "\n",
        "<style>\n",
        "div.scrollable {\n",
        "    height: 300px;  /* Adjust this value as needed */\n",
        "    overflow: auto;\n",
        "    border: 1px solid #ccc;  /* Optional: Adds a border */\n",
        "    padding: 10px;           /* Optional: Adds padding inside the box */\n",
        "}\n",
        "</style>"
      ]
    },
    {
      "cell_type": "markdown",
      "id": "1eba3b72",
      "metadata": {
        "id": "1eba3b72"
      },
      "source": [
        "# Lecture 3 Data Structures and Loops\n"
      ]
    },
    {
      "cell_type": "markdown",
      "id": "104769f3",
      "metadata": {},
      "source": [
        "## Plan for the lecture:\n",
        "\n",
        "1. Concept of a Data Structure\n",
        "\n",
        "2. Array and Strings (+ list comprehension)\n",
        "\n",
        "3. Lists \n",
        "\n",
        "4. Tuples \n",
        "\n",
        "5. Sets\n",
        "\n",
        "6. Dictionaries"
      ]
    },
    {
      "cell_type": "markdown",
      "id": "3ec7f7f9",
      "metadata": {},
      "source": [
        "## 1.0 Concept of a Data Structure\n",
        "\n",
        "* Unlike a variable which stores one value at a time, a data structure is built to store a collection of values. \n",
        "\n",
        "* Indexed structures allow for random access (RAM) – can locate an item by the index location. An array and vector allow for this.  \n",
        "\n",
        "* Non-indexed structures (or referenced) structures, on the other hand, are navigated sequentially. For example, a stream of data from the keyboard or from a file, or a linked list in which each node has a pointer the next in the sequence.\n",
        "\n"
      ]
    },
    {
      "cell_type": "markdown",
      "id": "c1b24d4f",
      "metadata": {},
      "source": [
        "## 1.1 Applications of Data Structures\n",
        "\n",
        "* The performance of typical operations (insert, delete, search and sort) vary across the structures. \n",
        "\n",
        "* Big O notation (complexity): constant, linear, linearithmic, quadratic etc. \n",
        "\n",
        "* Path finding algorithms (search / navigation).\n",
        "\n",
        "* Computer vision (representation of media as numbers).\n"
      ]
    },
    {
      "cell_type": "markdown",
      "id": "e73585cd",
      "metadata": {},
      "source": [
        "## 2.0 Array \n",
        "\n",
        "* The items in an array are called elements.\n",
        "\n",
        "* We specify how many elements an array will have when we declare the size of the array (if ‘fixed-size’), unlike flexible sized collections (e.g. ArrayList in Java).\n",
        "\n",
        "* Elements are numbered and can referred to by number inside the `[ ]` is called the index. This is used when data is input and output.\n",
        "\n",
        "* Can only store data if it matches the type the array is declared with.\n",
        "\n"
      ]
    },
    {
      "cell_type": "markdown",
      "id": "79a86422",
      "metadata": {},
      "source": [
        "## 2.1 Strings are an Array (or in Python, an str list)\n",
        "\n",
        "* A String (str) object is an immutable array of characters. \n",
        "\n",
        "* Each character has a numbered position in the array (index):\n",
        "\n",
        "* We can make use of functions to be able to perform operations on the string.\n",
        "\n"
      ]
    },
    {
      "cell_type": "code",
      "execution_count": 2,
      "id": "918dc6ae",
      "metadata": {},
      "outputs": [],
      "source": [
        "name = \"Nick\""
      ]
    },
    {
      "cell_type": "code",
      "execution_count": 4,
      "id": "e6a189eb",
      "metadata": {},
      "outputs": [
        {
          "data": {
            "text/plain": [
              "'c'"
            ]
          },
          "execution_count": 4,
          "metadata": {},
          "output_type": "execute_result"
        }
      ],
      "source": [
        "name[2]"
      ]
    },
    {
      "cell_type": "code",
      "execution_count": 5,
      "id": "891b7600",
      "metadata": {},
      "outputs": [
        {
          "name": "stdout",
          "output_type": "stream",
          "text": [
            "[0] : N\n",
            "[1] : i\n",
            "[2] : c\n",
            "[3] : k\n"
          ]
        }
      ],
      "source": [
        "i = 0\n",
        "for x in name: \n",
        "    print(\"[\" + str(i) + \"]\" + \" : \" + str(x))\n",
        "    i += 1"
      ]
    },
    {
      "cell_type": "code",
      "execution_count": 7,
      "id": "7a01f263",
      "metadata": {},
      "outputs": [
        {
          "name": "stdout",
          "output_type": "stream",
          "text": [
            "[ 0 ]  :  N\n",
            "[ 1 ]  :  i\n",
            "[ 2 ]  :  c\n",
            "[ 3 ]  :  k\n"
          ]
        }
      ],
      "source": [
        "i = 0\n",
        "for x in name: \n",
        "    print(\"[\", i, \"]\", \" : \", x)\n",
        "    i += 1"
      ]
    },
    {
      "cell_type": "code",
      "execution_count": 8,
      "id": "a28fc426",
      "metadata": {},
      "outputs": [
        {
          "data": {
            "text/plain": [
              "'N'"
            ]
          },
          "execution_count": 8,
          "metadata": {},
          "output_type": "execute_result"
        }
      ],
      "source": [
        "name[0]"
      ]
    },
    {
      "cell_type": "markdown",
      "id": "fb525c76",
      "metadata": {},
      "source": [
        "## 2.2 List comprehension: \n",
        "\n",
        "* Now that we've seen the `for...in...` loop in python, we can now review the list comprehension\n",
        "\n",
        "* List comprehension offers a <b>shorter syntax</b> for iterating through a list, on the same line (rather than a code block).\n",
        "\n",
        "* It is often used to create a new list based on the values of an existing list."
      ]
    },
    {
      "cell_type": "markdown",
      "id": "3c9a5247",
      "metadata": {},
      "source": [
        "... Now, we could use list comprehension to <b>print</b> out the contents of a list.\n",
        "\n",
        "The standard `for...in...` below: "
      ]
    },
    {
      "cell_type": "code",
      "execution_count": 4,
      "id": "ea3d69d7",
      "metadata": {},
      "outputs": [
        {
          "name": "stdout",
          "output_type": "stream",
          "text": [
            "N\n",
            "i\n",
            "c\n",
            "k\n"
          ]
        }
      ],
      "source": [
        "for x in name:\n",
        "    print(x)"
      ]
    },
    {
      "cell_type": "markdown",
      "id": "18e659f0",
      "metadata": {},
      "source": [
        "... would be reordered to look like the following: "
      ]
    },
    {
      "cell_type": "code",
      "execution_count": 3,
      "id": "187beac7",
      "metadata": {},
      "outputs": [
        {
          "name": "stdout",
          "output_type": "stream",
          "text": [
            "N\n",
            "i\n",
            "c\n",
            "k\n"
          ]
        },
        {
          "data": {
            "text/plain": [
              "[None, None, None, None]"
            ]
          },
          "execution_count": 3,
          "metadata": {},
          "output_type": "execute_result"
        }
      ],
      "source": [
        "[print(x) for x in name]"
      ]
    },
    {
      "cell_type": "markdown",
      "id": "3fb48dee",
      "metadata": {},
      "source": [
        "But notice that it returns a list of 'None' values! "
      ]
    },
    {
      "cell_type": "markdown",
      "id": "8ef1b2c8",
      "metadata": {},
      "source": [
        "List comprehension works better if you want to <b>create a new list based on the values of an existing list</b>.\n",
        "\n",
        "`newlist = [expression` <b>for</b> `item` <b>in</b>` iterable `<b>if</b> `condition == True]`"
      ]
    },
    {
      "cell_type": "code",
      "execution_count": 11,
      "id": "08a49f62",
      "metadata": {},
      "outputs": [
        {
          "data": {
            "text/plain": [
              "['apple', 'banana', 'mango']"
            ]
          },
          "execution_count": 11,
          "metadata": {},
          "output_type": "execute_result"
        }
      ],
      "source": [
        "fruits = [\"apple\", \"banana\", \"cherry\", \"kiwi\", \"mango\"]\n",
        "\n",
        "shortlist = [x for x in fruits if \"a\" in x]\n",
        "\n",
        "shortlist"
      ]
    },
    {
      "cell_type": "markdown",
      "id": "abc2d4c2",
      "metadata": {},
      "source": [
        "Can also apply functions to each item in a list too..."
      ]
    },
    {
      "cell_type": "code",
      "execution_count": null,
      "id": "b3fc3968",
      "metadata": {},
      "outputs": [
        {
          "data": {
            "text/plain": [
              "['N', 'I', 'C', 'H', 'O', 'L', 'A', 'S']"
            ]
          },
          "execution_count": 12,
          "metadata": {},
          "output_type": "execute_result"
        }
      ],
      "source": [
        "name = \"Nicholas\"\n",
        "\n",
        "uppercase = [x.upper() for x in name]\n",
        "\n",
        "uppercase"
      ]
    },
    {
      "cell_type": "code",
      "execution_count": null,
      "id": "240fcef5",
      "metadata": {},
      "outputs": [],
      "source": []
    },
    {
      "cell_type": "markdown",
      "id": "2b82c1b7",
      "metadata": {},
      "source": [
        "## 2.3 The `dir` of methods"
      ]
    },
    {
      "cell_type": "code",
      "execution_count": 10,
      "id": "67dc765f",
      "metadata": {},
      "outputs": [
        {
          "data": {
            "text/plain": [
              "['__add__',\n",
              " '__class__',\n",
              " '__contains__',\n",
              " '__delattr__',\n",
              " '__dir__',\n",
              " '__doc__',\n",
              " '__eq__',\n",
              " '__format__',\n",
              " '__ge__',\n",
              " '__getattribute__',\n",
              " '__getitem__',\n",
              " '__getnewargs__',\n",
              " '__gt__',\n",
              " '__hash__',\n",
              " '__init__',\n",
              " '__init_subclass__',\n",
              " '__iter__',\n",
              " '__le__',\n",
              " '__len__',\n",
              " '__lt__',\n",
              " '__mod__',\n",
              " '__mul__',\n",
              " '__ne__',\n",
              " '__new__',\n",
              " '__reduce__',\n",
              " '__reduce_ex__',\n",
              " '__repr__',\n",
              " '__rmod__',\n",
              " '__rmul__',\n",
              " '__setattr__',\n",
              " '__sizeof__',\n",
              " '__str__',\n",
              " '__subclasshook__',\n",
              " 'capitalize',\n",
              " 'casefold',\n",
              " 'center',\n",
              " 'count',\n",
              " 'encode',\n",
              " 'endswith',\n",
              " 'expandtabs',\n",
              " 'find',\n",
              " 'format',\n",
              " 'format_map',\n",
              " 'index',\n",
              " 'isalnum',\n",
              " 'isalpha',\n",
              " 'isascii',\n",
              " 'isdecimal',\n",
              " 'isdigit',\n",
              " 'isidentifier',\n",
              " 'islower',\n",
              " 'isnumeric',\n",
              " 'isprintable',\n",
              " 'isspace',\n",
              " 'istitle',\n",
              " 'isupper',\n",
              " 'join',\n",
              " 'ljust',\n",
              " 'lower',\n",
              " 'lstrip',\n",
              " 'maketrans',\n",
              " 'partition',\n",
              " 'removeprefix',\n",
              " 'removesuffix',\n",
              " 'replace',\n",
              " 'rfind',\n",
              " 'rindex',\n",
              " 'rjust',\n",
              " 'rpartition',\n",
              " 'rsplit',\n",
              " 'rstrip',\n",
              " 'split',\n",
              " 'splitlines',\n",
              " 'startswith',\n",
              " 'strip',\n",
              " 'swapcase',\n",
              " 'title',\n",
              " 'translate',\n",
              " 'upper',\n",
              " 'zfill']"
            ]
          },
          "execution_count": 10,
          "metadata": {},
          "output_type": "execute_result"
        }
      ],
      "source": [
        "dir(str)"
      ]
    },
    {
      "cell_type": "code",
      "execution_count": 11,
      "id": "7021809b",
      "metadata": {},
      "outputs": [
        {
          "data": {
            "text/plain": [
              "2"
            ]
          },
          "execution_count": 11,
          "metadata": {},
          "output_type": "execute_result"
        }
      ],
      "source": [
        "name.find('c')"
      ]
    },
    {
      "cell_type": "code",
      "execution_count": 12,
      "id": "2aa2ab17",
      "metadata": {},
      "outputs": [
        {
          "data": {
            "text/plain": [
              "-1"
            ]
          },
          "execution_count": 12,
          "metadata": {},
          "output_type": "execute_result"
        }
      ],
      "source": [
        "name.find('C')"
      ]
    },
    {
      "cell_type": "code",
      "execution_count": 13,
      "id": "93dc58c4",
      "metadata": {},
      "outputs": [
        {
          "data": {
            "text/plain": [
              "'nick'"
            ]
          },
          "execution_count": 13,
          "metadata": {},
          "output_type": "execute_result"
        }
      ],
      "source": [
        "name.lower()"
      ]
    },
    {
      "cell_type": "code",
      "execution_count": 14,
      "id": "43183532",
      "metadata": {},
      "outputs": [
        {
          "data": {
            "text/plain": [
              "'NICK'"
            ]
          },
          "execution_count": 14,
          "metadata": {},
          "output_type": "execute_result"
        }
      ],
      "source": [
        "name.upper()"
      ]
    },
    {
      "cell_type": "markdown",
      "id": "2a9e354f",
      "metadata": {},
      "source": [
        "## 3. Lists `[ ]`\n",
        "\n",
        "* A list in Python does use the subscript operator `[ ]` typically associated with an array. Elements in this list are also indexed.\n",
        "\n",
        "* The list will maintain a pointer (reference) to objects, rather the integer values (remember Python types are classes).\n",
        "\n",
        "* Lists in python are resizable, unlike static arrays which are fixed.\n",
        "\n",
        "* Python lists can store elements of different types, whereas arrays are declared to store values of one type.\n"
      ]
    },
    {
      "cell_type": "code",
      "execution_count": 15,
      "id": "9045400c",
      "metadata": {},
      "outputs": [
        {
          "data": {
            "text/plain": [
              "[1, 2.25, 'Nick', 'N', True]"
            ]
          },
          "execution_count": 15,
          "metadata": {},
          "output_type": "execute_result"
        }
      ],
      "source": [
        "l = [1,2.25,\"Nick\",\"N\",True]\n",
        "l"
      ]
    },
    {
      "cell_type": "code",
      "execution_count": 16,
      "id": "c7ad067e",
      "metadata": {},
      "outputs": [
        {
          "data": {
            "text/plain": [
              "[1, 2, 3, 4, 5, 6]"
            ]
          },
          "execution_count": 16,
          "metadata": {},
          "output_type": "execute_result"
        }
      ],
      "source": [
        "l = [1,2,3,4,5,6]\n",
        "l"
      ]
    },
    {
      "cell_type": "code",
      "execution_count": 17,
      "id": "55fe606b",
      "metadata": {},
      "outputs": [
        {
          "data": {
            "text/plain": [
              "1"
            ]
          },
          "execution_count": 17,
          "metadata": {},
          "output_type": "execute_result"
        }
      ],
      "source": [
        "l[0]"
      ]
    },
    {
      "cell_type": "code",
      "execution_count": 18,
      "id": "c972039a",
      "metadata": {},
      "outputs": [
        {
          "data": {
            "text/plain": [
              "6"
            ]
          },
          "execution_count": 18,
          "metadata": {},
          "output_type": "execute_result"
        }
      ],
      "source": [
        "l[-1]"
      ]
    },
    {
      "cell_type": "code",
      "execution_count": 19,
      "id": "a6e5eeb9",
      "metadata": {},
      "outputs": [
        {
          "data": {
            "text/plain": [
              "5"
            ]
          },
          "execution_count": 19,
          "metadata": {},
          "output_type": "execute_result"
        }
      ],
      "source": [
        "l[-2]"
      ]
    },
    {
      "cell_type": "code",
      "execution_count": 20,
      "id": "2f53610f",
      "metadata": {},
      "outputs": [
        {
          "data": {
            "text/plain": [
              "[1, 2, 3, 4, 5, 6]"
            ]
          },
          "execution_count": 20,
          "metadata": {},
          "output_type": "execute_result"
        }
      ],
      "source": [
        "l"
      ]
    },
    {
      "cell_type": "code",
      "execution_count": 21,
      "id": "78df89ed",
      "metadata": {},
      "outputs": [
        {
          "data": {
            "text/plain": [
              "[3, 4, 5]"
            ]
          },
          "execution_count": 21,
          "metadata": {},
          "output_type": "execute_result"
        }
      ],
      "source": [
        "l[2:5]"
      ]
    },
    {
      "cell_type": "code",
      "execution_count": 22,
      "id": "a12c8033",
      "metadata": {},
      "outputs": [
        {
          "data": {
            "text/plain": [
              "list"
            ]
          },
          "execution_count": 22,
          "metadata": {},
          "output_type": "execute_result"
        }
      ],
      "source": [
        "type(l)"
      ]
    },
    {
      "cell_type": "code",
      "execution_count": 23,
      "id": "f0223eb3",
      "metadata": {},
      "outputs": [
        {
          "data": {
            "text/plain": [
              "['__add__',\n",
              " '__class__',\n",
              " '__class_getitem__',\n",
              " '__contains__',\n",
              " '__delattr__',\n",
              " '__delitem__',\n",
              " '__dir__',\n",
              " '__doc__',\n",
              " '__eq__',\n",
              " '__format__',\n",
              " '__ge__',\n",
              " '__getattribute__',\n",
              " '__getitem__',\n",
              " '__gt__',\n",
              " '__hash__',\n",
              " '__iadd__',\n",
              " '__imul__',\n",
              " '__init__',\n",
              " '__init_subclass__',\n",
              " '__iter__',\n",
              " '__le__',\n",
              " '__len__',\n",
              " '__lt__',\n",
              " '__mul__',\n",
              " '__ne__',\n",
              " '__new__',\n",
              " '__reduce__',\n",
              " '__reduce_ex__',\n",
              " '__repr__',\n",
              " '__reversed__',\n",
              " '__rmul__',\n",
              " '__setattr__',\n",
              " '__setitem__',\n",
              " '__sizeof__',\n",
              " '__str__',\n",
              " '__subclasshook__',\n",
              " 'append',\n",
              " 'clear',\n",
              " 'copy',\n",
              " 'count',\n",
              " 'extend',\n",
              " 'index',\n",
              " 'insert',\n",
              " 'pop',\n",
              " 'remove',\n",
              " 'reverse',\n",
              " 'sort']"
            ]
          },
          "execution_count": 23,
          "metadata": {},
          "output_type": "execute_result"
        }
      ],
      "source": [
        "dir(list)"
      ]
    },
    {
      "cell_type": "code",
      "execution_count": 24,
      "id": "734ca2d6",
      "metadata": {},
      "outputs": [
        {
          "data": {
            "text/plain": [
              "[1, 2, 3, 4, 5, 6, 7]"
            ]
          },
          "execution_count": 24,
          "metadata": {},
          "output_type": "execute_result"
        }
      ],
      "source": [
        "l.append(7)\n",
        "l"
      ]
    },
    {
      "cell_type": "code",
      "execution_count": 25,
      "id": "5fc103ca",
      "metadata": {},
      "outputs": [
        {
          "data": {
            "text/plain": [
              "[1, 2, 3, 4, 5, 6]"
            ]
          },
          "execution_count": 25,
          "metadata": {},
          "output_type": "execute_result"
        }
      ],
      "source": [
        "l.remove(7)\n",
        "l"
      ]
    },
    {
      "cell_type": "markdown",
      "id": "9b6ced46",
      "metadata": {},
      "source": [
        "## 4. Tuples in Python `( )`\n",
        "\n",
        "* We’ve seen that a Python list is indexed and can store elements of different types (heterogeneity) \n",
        "\n",
        "* Tuples are constant (immutable) – once they are declared, they cannot be reassigned. \n",
        "\n",
        "* A list is declared with `[ ]` whereas the tuple is declared with `( )`\n",
        "\n",
        "* We can still refer to elements in a tuple via the `[ ]` \n"
      ]
    },
    {
      "cell_type": "code",
      "execution_count": 26,
      "id": "5c1eb4d8",
      "metadata": {},
      "outputs": [
        {
          "data": {
            "text/plain": [
              "(1, 2, 3, 4, 5, 6)"
            ]
          },
          "execution_count": 26,
          "metadata": {},
          "output_type": "execute_result"
        }
      ],
      "source": [
        "t = (1,2,3,4,5,6)\n",
        "t"
      ]
    },
    {
      "cell_type": "code",
      "execution_count": 28,
      "id": "5f9a7f4d",
      "metadata": {},
      "outputs": [
        {
          "data": {
            "text/plain": [
              "3"
            ]
          },
          "execution_count": 28,
          "metadata": {},
          "output_type": "execute_result"
        }
      ],
      "source": [
        "t[2]"
      ]
    },
    {
      "cell_type": "code",
      "execution_count": 30,
      "id": "effe2260",
      "metadata": {},
      "outputs": [
        {
          "ename": "TypeError",
          "evalue": "'tuple' object does not support item assignment",
          "output_type": "error",
          "traceback": [
            "\u001b[0;31m---------------------------------------------------------------------------\u001b[0m",
            "\u001b[0;31mTypeError\u001b[0m                                 Traceback (most recent call last)",
            "Cell \u001b[0;32mIn [30], line 1\u001b[0m\n\u001b[0;32m----> 1\u001b[0m t[\u001b[38;5;241m0\u001b[39m] \u001b[38;5;241m=\u001b[39m \u001b[38;5;241m5\u001b[39m\n",
            "\u001b[0;31mTypeError\u001b[0m: 'tuple' object does not support item assignment"
          ]
        }
      ],
      "source": [
        "t[0] = 5"
      ]
    },
    {
      "cell_type": "code",
      "execution_count": 31,
      "id": "79f7e94f",
      "metadata": {},
      "outputs": [
        {
          "data": {
            "text/plain": [
              "tuple"
            ]
          },
          "execution_count": 31,
          "metadata": {},
          "output_type": "execute_result"
        }
      ],
      "source": [
        "type(t)"
      ]
    },
    {
      "cell_type": "code",
      "execution_count": 32,
      "id": "1f7936fb",
      "metadata": {},
      "outputs": [
        {
          "data": {
            "text/plain": [
              "['__add__',\n",
              " '__class__',\n",
              " '__class_getitem__',\n",
              " '__contains__',\n",
              " '__delattr__',\n",
              " '__dir__',\n",
              " '__doc__',\n",
              " '__eq__',\n",
              " '__format__',\n",
              " '__ge__',\n",
              " '__getattribute__',\n",
              " '__getitem__',\n",
              " '__getnewargs__',\n",
              " '__gt__',\n",
              " '__hash__',\n",
              " '__init__',\n",
              " '__init_subclass__',\n",
              " '__iter__',\n",
              " '__le__',\n",
              " '__len__',\n",
              " '__lt__',\n",
              " '__mul__',\n",
              " '__ne__',\n",
              " '__new__',\n",
              " '__reduce__',\n",
              " '__reduce_ex__',\n",
              " '__repr__',\n",
              " '__rmul__',\n",
              " '__setattr__',\n",
              " '__sizeof__',\n",
              " '__str__',\n",
              " '__subclasshook__',\n",
              " 'count',\n",
              " 'index']"
            ]
          },
          "execution_count": 32,
          "metadata": {},
          "output_type": "execute_result"
        }
      ],
      "source": [
        "dir(tuple)"
      ]
    },
    {
      "cell_type": "code",
      "execution_count": 35,
      "id": "2ead6f15",
      "metadata": {},
      "outputs": [],
      "source": [
        "t1 = (1,1,1,1,1,2,2,2,2,2,2,2,2,2,3,3,3,3,3,3)"
      ]
    },
    {
      "cell_type": "code",
      "execution_count": 36,
      "id": "7f3797bc",
      "metadata": {},
      "outputs": [
        {
          "data": {
            "text/plain": [
              "9"
            ]
          },
          "execution_count": 36,
          "metadata": {},
          "output_type": "execute_result"
        }
      ],
      "source": [
        "t1.count(2)"
      ]
    },
    {
      "cell_type": "code",
      "execution_count": 38,
      "id": "7222be16",
      "metadata": {},
      "outputs": [
        {
          "data": {
            "text/plain": [
              "(1, 2, 3, 4, 5, 6)"
            ]
          },
          "execution_count": 38,
          "metadata": {},
          "output_type": "execute_result"
        }
      ],
      "source": [
        "t"
      ]
    },
    {
      "cell_type": "code",
      "execution_count": 37,
      "id": "698b5fa8",
      "metadata": {},
      "outputs": [
        {
          "data": {
            "text/plain": [
              "4"
            ]
          },
          "execution_count": 37,
          "metadata": {},
          "output_type": "execute_result"
        }
      ],
      "source": [
        "t.index(5)"
      ]
    },
    {
      "cell_type": "markdown",
      "id": "2cf034f4",
      "metadata": {},
      "source": [
        "## 4.1 Tuples vs Lists \n",
        "\n",
        "* Tuples are immutable (constant) – once they are declared, they cannot be reassigned. \n",
        "\n",
        "* A list is mutable – elements can be reassigned. \n",
        "\n",
        "* A list is declared with `[ ]` whereas the tuple is declared with `( )`\n",
        "\n",
        "* We can refer to elements in both a list and tuple via the `[ ]` \n"
      ]
    },
    {
      "cell_type": "markdown",
      "id": "f81a49de",
      "metadata": {},
      "source": [
        "## 5.0 Sets in Python `{ }`\n",
        "\n",
        "* Sets in mathematics refer to a set of distinct numbers – there are no duplicates.\n",
        "\n",
        "* Whilst one may try and assign multiple instances of the same value, the Python set only stores one instance of this value.\n",
        "\n",
        "* Casting data to a set is a useful way to remove duplicates!\n",
        "\n",
        "* Sets are declared with the `{ }`\n",
        "\n",
        "* Sets are mutable (can change)\n"
      ]
    },
    {
      "cell_type": "code",
      "execution_count": null,
      "id": "934a1494",
      "metadata": {},
      "outputs": [],
      "source": [
        "s = {1,2,3,4,5,6}\n",
        "s"
      ]
    },
    {
      "cell_type": "code",
      "execution_count": null,
      "id": "f91c02d6",
      "metadata": {},
      "outputs": [],
      "source": [
        "s.add(7)\n",
        "s"
      ]
    },
    {
      "cell_type": "code",
      "execution_count": null,
      "id": "dd4dcb3f",
      "metadata": {},
      "outputs": [],
      "source": [
        "s.remove(7)\n",
        "s"
      ]
    },
    {
      "cell_type": "code",
      "execution_count": null,
      "id": "c6025b36",
      "metadata": {},
      "outputs": [],
      "source": [
        "s = {1,2,3,4,5,6,1,2,3,4,5,6}\n",
        "s"
      ]
    },
    {
      "cell_type": "code",
      "execution_count": null,
      "id": "833a6646",
      "metadata": {},
      "outputs": [],
      "source": [
        "l = [1,1,2,2,3,3,4,4,5,5,6,6]\n",
        "s = set(l)\n",
        "s"
      ]
    },
    {
      "cell_type": "markdown",
      "id": "674e745c",
      "metadata": {},
      "source": [
        "## 5.1 Standard Sets and Notation (from Discrete Mathematics)\n",
        "\n",
        "* $ \\mathbb{N} = \\{ 0, 1, 2, 3, ...\\} $ the set of all non-negative integers\n",
        "\n",
        "* $ \\mathbb{Z} = \\{..., -3, -2, -1, 0, 1, 2, 3, ...\\} $ the set of all integers\n",
        "\n",
        "* $ \\mathbb{Q}$, the set of all rational numbers, i.e. numbers of the form $a/b$ where $a,b$ are integers with $b \\neq 0$\n",
        "\n",
        "* $ \\mathbb{R}$, the set of all real numbers, also denoted as as $(-\\infty, +\\infty)$"
      ]
    },
    {
      "cell_type": "code",
      "execution_count": null,
      "id": "32392c90",
      "metadata": {},
      "outputs": [
        {
          "data": {
            "text/plain": [
              "{0, 1, 2, 3, 4, 5, Ellipsis}"
            ]
          },
          "metadata": {},
          "output_type": "display_data"
        }
      ],
      "source": [
        "N = {0, 1, 2, 3, 4, 5, ...}\n",
        "N"
      ]
    },
    {
      "cell_type": "markdown",
      "id": "b3a715fe",
      "metadata": {},
      "source": [
        "## 5.2 Specifying Sets via Condition \n",
        "\n",
        "* $ \\in $ means IN, so if $ x \\in \\mathbb{N} $ then $x$ is IN $\\mathbb{N}$ - set of non-negative integers.\n",
        "\n",
        "* $\\mid$ means SUCH THAT, so $ S = \\{ x \\in \\mathbb{R} \\mid x > 0 \\} $, then S is going to hold real numbers greater than zero."
      ]
    },
    {
      "cell_type": "markdown",
      "id": "2edc4c4d",
      "metadata": {},
      "source": [
        "* $ S = \\{ x \\in \\mathbb{R} \\mid x > 0 \\} $"
      ]
    },
    {
      "cell_type": "code",
      "execution_count": null,
      "id": "d70bd1d2",
      "metadata": {},
      "outputs": [
        {
          "data": {
            "text/plain": [
              "{1, 2, 3}"
            ]
          },
          "metadata": {},
          "output_type": "display_data"
        }
      ],
      "source": [
        "s = set()\n",
        "l = [-2, -1, 0, 1, 2, 3]\n",
        "\n",
        "for number in l: \n",
        "    if number > 0:\n",
        "        s.add(number)\n",
        "        \n",
        "s\n",
        "    "
      ]
    },
    {
      "cell_type": "markdown",
      "id": "a321acfc",
      "metadata": {},
      "source": [
        "## 5.3 Subsets and Set Equality\n",
        "\n",
        "* $ \\subset $ means subset\n",
        "\n",
        "* subset $ A \\subset B $"
      ]
    },
    {
      "cell_type": "code",
      "execution_count": null,
      "id": "82d1c216",
      "metadata": {},
      "outputs": [],
      "source": [
        "A = {1,2,3}\n",
        "B = {1,2,3,4,5,6}"
      ]
    },
    {
      "cell_type": "code",
      "execution_count": null,
      "id": "02edb367",
      "metadata": {},
      "outputs": [
        {
          "data": {
            "text/plain": [
              "True"
            ]
          },
          "metadata": {},
          "output_type": "display_data"
        }
      ],
      "source": [
        "A.issubset(B)"
      ]
    },
    {
      "cell_type": "code",
      "execution_count": null,
      "id": "0fdba5d6",
      "metadata": {},
      "outputs": [],
      "source": [
        "A = {1,2,3}\n",
        "B = {4,5,6}"
      ]
    },
    {
      "cell_type": "code",
      "execution_count": null,
      "id": "ec42a155",
      "metadata": {},
      "outputs": [
        {
          "data": {
            "text/plain": [
              "False"
            ]
          },
          "metadata": {},
          "output_type": "display_data"
        }
      ],
      "source": [
        "A.issubset(B)"
      ]
    },
    {
      "cell_type": "markdown",
      "id": "0a134f7c",
      "metadata": {},
      "source": [
        "## 5.4 Union, Intersection and Difference \n",
        "\n",
        "* Intersect $ A \\cap B $ = ` A & B ` in Python\n",
        "\n",
        "* Union $ A \\cup B $ =  ` A | B ` in Python\n",
        "\n",
        "* Difference $ A \\setminus B $ =  ` A - B ` in Python"
      ]
    },
    {
      "cell_type": "markdown",
      "id": "68daa6a9",
      "metadata": {},
      "source": [
        "## 5.4.1 Set Intersect"
      ]
    },
    {
      "cell_type": "code",
      "execution_count": null,
      "id": "32e6a365",
      "metadata": {},
      "outputs": [],
      "source": [
        "A = {1,2,3,4,5,6}\n",
        "B = {4,5,6,7,8,9}\n",
        "A & B\n"
      ]
    },
    {
      "cell_type": "markdown",
      "id": "07ca26e7",
      "metadata": {},
      "source": [
        "## 5.4.2 Set Union"
      ]
    },
    {
      "cell_type": "code",
      "execution_count": null,
      "id": "2c6fc6f6",
      "metadata": {},
      "outputs": [],
      "source": [
        "A = {1,2,3,4,5,6}\n",
        "B = {4,5,6,7,8,9}\n",
        "A | B\n"
      ]
    },
    {
      "cell_type": "markdown",
      "id": "cd84cdce",
      "metadata": {},
      "source": [
        "## 5.4.3 Set Difference"
      ]
    },
    {
      "cell_type": "code",
      "execution_count": null,
      "id": "825d711d",
      "metadata": {},
      "outputs": [],
      "source": [
        "A = {1,2,3,4,5,6}\n",
        "B = {4,5,6,7,8,9}\n",
        "A - B"
      ]
    },
    {
      "cell_type": "code",
      "execution_count": null,
      "id": "d53fccef",
      "metadata": {},
      "outputs": [],
      "source": [
        "A = {1,2,3,4,5,6}\n",
        "B = {4,5,6,7,8,9}\n",
        "B - A"
      ]
    },
    {
      "cell_type": "markdown",
      "id": "cdc73ecd",
      "metadata": {},
      "source": [
        "## 6.0 Dictionaries `{ k : v}`\n",
        "\n",
        "* An English Dictionary would allow us to look up the definition of a word. We search the word to locate the definition. \n",
        "\n",
        "* In Python, we specify a key (word) to be able to get a value (definition). \n",
        "\n",
        "* Similar to an associative array, or a Map in Java.\n",
        "\n",
        "* Like Set, Dictionaries also use the `{ }` but they feature : for a key and value pair  `{ k : v }`\n"
      ]
    },
    {
      "cell_type": "code",
      "execution_count": 44,
      "id": "9cdec5dc",
      "metadata": {},
      "outputs": [
        {
          "data": {
            "text/plain": [
              "{'USA': 200, 'UK': 200, 'EU': 200}"
            ]
          },
          "execution_count": 44,
          "metadata": {},
          "output_type": "execute_result"
        }
      ],
      "source": [
        "d = {\"USA\": 200, \"UK\": 200, \"EU\": 200}\n",
        "d\n"
      ]
    },
    {
      "cell_type": "code",
      "execution_count": 51,
      "id": "2b5c9642",
      "metadata": {},
      "outputs": [
        {
          "data": {
            "text/plain": [
              "200"
            ]
          },
          "execution_count": 51,
          "metadata": {},
          "output_type": "execute_result"
        }
      ],
      "source": [
        "d = {\"USA\": 200, \"UK\": 200, \"EU\": 200}\n",
        "d[\"UK\"]\n"
      ]
    },
    {
      "cell_type": "code",
      "execution_count": 52,
      "id": "e9afa2d5",
      "metadata": {},
      "outputs": [
        {
          "ename": "KeyError",
          "evalue": "'uk'",
          "output_type": "error",
          "traceback": [
            "\u001b[0;31m---------------------------------------------------------------------------\u001b[0m",
            "\u001b[0;31mKeyError\u001b[0m                                  Traceback (most recent call last)",
            "Cell \u001b[0;32mIn [52], line 2\u001b[0m\n\u001b[1;32m      1\u001b[0m d \u001b[38;5;241m=\u001b[39m {\u001b[38;5;124m\"\u001b[39m\u001b[38;5;124mUSA\u001b[39m\u001b[38;5;124m\"\u001b[39m: \u001b[38;5;241m200\u001b[39m, \u001b[38;5;124m\"\u001b[39m\u001b[38;5;124mUK\u001b[39m\u001b[38;5;124m\"\u001b[39m: \u001b[38;5;241m200\u001b[39m, \u001b[38;5;124m\"\u001b[39m\u001b[38;5;124mEU\u001b[39m\u001b[38;5;124m\"\u001b[39m: \u001b[38;5;241m200\u001b[39m}\n\u001b[0;32m----> 2\u001b[0m d[\u001b[38;5;124m\"\u001b[39m\u001b[38;5;124muk\u001b[39m\u001b[38;5;124m\"\u001b[39m]\n",
            "\u001b[0;31mKeyError\u001b[0m: 'uk'"
          ]
        }
      ],
      "source": [
        "d = {\"USA\": 200, \"UK\": 200, \"EU\": 200}\n",
        "d[\"uk\"]\n"
      ]
    },
    {
      "cell_type": "markdown",
      "id": "d2943d52",
      "metadata": {},
      "source": [
        "## 6.4 Append"
      ]
    },
    {
      "cell_type": "code",
      "execution_count": 45,
      "id": "1d7be8ab",
      "metadata": {},
      "outputs": [
        {
          "data": {
            "text/plain": [
              "{'USA': 200, 'UK': 200, 'EU': 200, 'Asia': 300}"
            ]
          },
          "execution_count": 45,
          "metadata": {},
          "output_type": "execute_result"
        }
      ],
      "source": [
        "d = {\"USA\": 200, \"UK\": 200, \"EU\": 200}\n",
        "d[\"Asia\"] = 300\n",
        "d\n"
      ]
    },
    {
      "cell_type": "markdown",
      "id": "9157c9d6",
      "metadata": {},
      "source": [
        "## 6.5 Remove"
      ]
    },
    {
      "cell_type": "code",
      "execution_count": 46,
      "id": "a4ccae47",
      "metadata": {},
      "outputs": [
        {
          "data": {
            "text/plain": [
              "{'USA': 200, 'UK': 200, 'EU': 200}"
            ]
          },
          "execution_count": 46,
          "metadata": {},
          "output_type": "execute_result"
        }
      ],
      "source": [
        "d = {\"USA\": 200, \"UK\": 200, \"EU\": 200, \"Asia\": 30}\n",
        "del d[\"Asia\"]\n",
        "d\n"
      ]
    },
    {
      "cell_type": "code",
      "execution_count": 55,
      "id": "355b59d5",
      "metadata": {},
      "outputs": [
        {
          "data": {
            "text/plain": [
              "dict"
            ]
          },
          "execution_count": 55,
          "metadata": {},
          "output_type": "execute_result"
        }
      ],
      "source": [
        "type(d)"
      ]
    },
    {
      "cell_type": "code",
      "execution_count": 47,
      "id": "0f9152aa",
      "metadata": {},
      "outputs": [
        {
          "data": {
            "text/plain": [
              "['__class__',\n",
              " '__class_getitem__',\n",
              " '__contains__',\n",
              " '__delattr__',\n",
              " '__delitem__',\n",
              " '__dir__',\n",
              " '__doc__',\n",
              " '__eq__',\n",
              " '__format__',\n",
              " '__ge__',\n",
              " '__getattribute__',\n",
              " '__getitem__',\n",
              " '__gt__',\n",
              " '__hash__',\n",
              " '__init__',\n",
              " '__init_subclass__',\n",
              " '__ior__',\n",
              " '__iter__',\n",
              " '__le__',\n",
              " '__len__',\n",
              " '__lt__',\n",
              " '__ne__',\n",
              " '__new__',\n",
              " '__or__',\n",
              " '__reduce__',\n",
              " '__reduce_ex__',\n",
              " '__repr__',\n",
              " '__reversed__',\n",
              " '__ror__',\n",
              " '__setattr__',\n",
              " '__setitem__',\n",
              " '__sizeof__',\n",
              " '__str__',\n",
              " '__subclasshook__',\n",
              " 'clear',\n",
              " 'copy',\n",
              " 'fromkeys',\n",
              " 'get',\n",
              " 'items',\n",
              " 'keys',\n",
              " 'pop',\n",
              " 'popitem',\n",
              " 'setdefault',\n",
              " 'update',\n",
              " 'values']"
            ]
          },
          "execution_count": 47,
          "metadata": {},
          "output_type": "execute_result"
        }
      ],
      "source": [
        "dir(dict)"
      ]
    },
    {
      "cell_type": "code",
      "execution_count": 57,
      "id": "9e8856bf",
      "metadata": {},
      "outputs": [
        {
          "name": "stdout",
          "output_type": "stream",
          "text": [
            "dict_keys(['USA', 'UK', 'EU'])\n",
            "dict_values([200, 200, 200])\n"
          ]
        }
      ],
      "source": [
        "d = {\"USA\": 200, \"UK\": 200, \"EU\": 200}\n",
        "print( d.keys() )\n",
        "print( d.values() )\n"
      ]
    },
    {
      "cell_type": "markdown",
      "id": "7274d3c9",
      "metadata": {},
      "source": [
        "## Summary \n",
        "\n",
        "* You can distinguish between the key collections by the pairs of brackets used: \n",
        "\n",
        "| Structure | Brackets | Characteristics |\n",
        "| ----------- | ----------- | --------- |\n",
        "| Lists |\t`[ , ]` | mutable |\n",
        "| Tuples |\t`( , )` | immutable | \n",
        "| Sets |\t`{ , }`  | unique values (no duplicates) |\n",
        "| Dict | `{k : v}` | key and value pairs |\n"
      ]
    },
    {
      "cell_type": "markdown",
      "id": "3b4522c2",
      "metadata": {},
      "source": [
        "#### This Jupyter Notebook contains exercises for you to extend your introduction to Python, by creating lists, tuples, sets, dictionaries of objects. Attempt the following exercises, which slowly build in complexity. If you get stuck, check back to the <a href = \"https://www.youtube.com/watch?v=359eGFD7hS4\"> Python lecture recording on Data Structures here</a> or view the <a href = \"https://www.w3schools.com/python/python_lists.asp\">W3Schools page on Python Variables</a>, which includes examples, exercises and quizzes to help your understanding. "
      ]
    },
    {
      "cell_type": "markdown",
      "id": "7d48ffc8",
      "metadata": {},
      "source": [
        "# Exercise 3: Data Structures, Functions and Loops\n",
        "\n",
        "In this week's exercise, you'll learn how to:\n",
        "\n",
        "1. write functions that manipulate data structures such as lists and dictionaries\n",
        "2. master list comprehension and dict comprehension\n",
        "3. compute operations on matrices represented as lists of lists"
      ]
    },
    {
      "cell_type": "markdown",
      "id": "349cf380",
      "metadata": {},
      "source": [
        "## Lists"
      ]
    },
    {
      "cell_type": "markdown",
      "id": "3ab058b0",
      "metadata": {},
      "source": [
        "### 3.1. Write a Python function to sum all the numbers in a list.\n",
        "\n",
        "Write a function to sum all number in a list without using the `sum()` built-in method. Hint: use a `for..in` cycle instead.\n",
        "\n",
        "Sample list: `[9, 12, 7, 19]`\n",
        "\n",
        "Expected output: 47"
      ]
    },
    {
      "cell_type": "code",
      "execution_count": null,
      "id": "50e47ff8",
      "metadata": {},
      "outputs": [],
      "source": [
        "# Write your function here:\n",
        "# Hint: do not use the name `sum` for your function because it would overwrite the built-in sum() method\n"
      ]
    },
    {
      "cell_type": "markdown",
      "id": "383d3de2",
      "metadata": {},
      "source": [
        "### 3.2 Write a Python program to count the number of elements in a list within a specified range.\n",
        "\n",
        "Sample list: `[10,20,30,40,40,40,70,80,99]`\n",
        "\n",
        "Sample min: `15`\n",
        "\n",
        "Sample max: `50`\n",
        "\n",
        "Expected output: `5`"
      ]
    },
    {
      "cell_type": "code",
      "execution_count": null,
      "id": "d7f3ea51",
      "metadata": {},
      "outputs": [],
      "source": [
        "# Write your function here:\n"
      ]
    },
    {
      "cell_type": "code",
      "execution_count": null,
      "id": "5935bb47",
      "metadata": {},
      "outputs": [],
      "source": [
        "# Test your function here\n"
      ]
    },
    {
      "cell_type": "markdown",
      "id": "f41e027b",
      "metadata": {},
      "source": [
        "### 3.3 List Manipulation\n",
        "\n",
        "From the given list:\n",
        "\n",
        "```\n",
        "gadgets = [“Mobile”, “Laptop”, 100, “Camera”, 310.28, “Speakers”, 27.00,\n",
        "“Television”, 1000, “Laptop Case”, “Camera Lens”]\n",
        "```\n",
        "\n",
        "a)create separate lists of strings and numbers.\n",
        " \n",
        "b)Sort the strings list in ascending order\n",
        " \n",
        "c)Sort the strings list in descending order\n",
        " \n",
        "d)Sort the number list from lowest to highest\n",
        " \n",
        "e)Sort the number list from highest to lowest"
      ]
    },
    {
      "cell_type": "code",
      "execution_count": null,
      "id": "2bcb991a",
      "metadata": {},
      "outputs": [
        {
          "name": "stdout",
          "output_type": "stream",
          "text": [
            "['Camera', 'Camera Lens', 'Laptop', 'Laptop Case', 'Mobile', 'Speakers', 'Television']\n",
            "b) ['Camera', 'Camera Lens', 'Laptop', 'Laptop Case', 'Mobile', 'Speakers', 'Television']\n",
            "c) ['Television', 'Speakers', 'Mobile', 'Laptop Case', 'Laptop', 'Camera Lens', 'Camera']\n",
            "['Camera', 'Camera Lens', 'Laptop', 'Laptop Case', 'Mobile', 'Speakers', 'Television']\n",
            "['Television', 'Speakers', 'Mobile', 'Laptop Case', 'Laptop', 'Camera Lens', 'Camera']\n",
            "[27.0, 100, 310.28, 1000]\n",
            "[1000, 310.28, 100, 27.0]\n"
          ]
        }
      ],
      "source": [
        "# Write your solution here:\n",
        "\n",
        "gadgets = [\"Mobile\", \"Laptop\", 100, \"Camera\", 310.28, \"Speakers\", 27.00, \n",
        "           \"Television\", 1000, \"Laptop Case\", \"Camera Lens\"]\n",
        " \n",
        "\n",
        "# Write your solutions here \n",
        " \n",
        "# a)creating separate lists\n",
        "\n",
        "# b)sorting strings list in ascending order, a-z\n",
        "\n",
        "# c)sorting strings list in descending order z-a\n",
        "\n",
        "# d)sorting number list from lowest to highest\n",
        "\n",
        "# e)sorting number list from highest to lowest\n",
        "\n",
        " "
      ]
    },
    {
      "cell_type": "markdown",
      "id": "8cfac353",
      "metadata": {},
      "source": [
        "## Dictionaries\n",
        "\n"
      ]
    },
    {
      "cell_type": "markdown",
      "id": "80f56b64",
      "metadata": {},
      "source": [
        "### 3.4 Dictionary manipulation\n",
        "\n",
        "Write a function that takes a dictionary as input and retuns the mean (i.e. average value) of the values stored in the dictionary\n",
        "\n",
        "```\n",
        "Sample Dictionary = Life expectancy by country = {\n",
        "    'Japan': 83.7,\n",
        "    'Switzerland': 83.4,\n",
        "    'Singapore': 83.1,\n",
        "    'Italy': 82.7,\n",
        "    'Israel': 82.5,\n",
        "    'Netherlands': 81.9,\n",
        "    'United Kingdom': 81.2,\n",
        "    'Cyprus': 80.5,\n",
        "    'Chile': 80.5,\n",
        "    'United States: 79.3,\n",
        "    'Argentina': 76.3,\n",
        "    'Iran': 75.5,\n",
        "    'Jordan': 74.1,\n",
        "    'Russia': 70.5,\n",
        "    'Philippines': 68.5,\n",
        "    'India': 68.3\n",
        "}\n",
        "```"
      ]
    },
    {
      "cell_type": "code",
      "execution_count": null,
      "id": "6455a7b4",
      "metadata": {},
      "outputs": [],
      "source": [
        "life_expectancy = {\n",
        "    'Japan': 83.7,\n",
        "    'Switzerland': 83.4,\n",
        "    'Singapore': 83.1,\n",
        "    'Italy': 82.7,\n",
        "    'Israel': 82.5,\n",
        "    'Netherlands': 81.9,\n",
        "    'United Kingdom': 81.2,\n",
        "    'Cyprus': 80.5,\n",
        "    'Chile': 80.5,\n",
        "    'United States': 79.3,\n",
        "    'Argentina': 76.3,\n",
        "    'Iran': 75.5,\n",
        "    'Jordan': 74.1,\n",
        "    'Russia': 70.5,\n",
        "    'Philippines': 68.5,\n",
        "    'India': 68.3\n",
        "}"
      ]
    },
    {
      "cell_type": "code",
      "execution_count": null,
      "id": "ad9e9fd5",
      "metadata": {},
      "outputs": [],
      "source": [
        "# Write your function here:"
      ]
    },
    {
      "cell_type": "markdown",
      "id": "0b409cf8",
      "metadata": {},
      "source": [
        "### 3.5 Dictionary sorting\n",
        "\n",
        "Write a program that sorts by key in descending order (from Z to A) the dictionary of **exercise 3.4**. \n",
        "\n",
        "Hint: inspect the Python built-in functions (https://docs.python.org/3.7/library/functions.html)"
      ]
    },
    {
      "cell_type": "code",
      "execution_count": null,
      "id": "188accd9",
      "metadata": {},
      "outputs": [],
      "source": [
        "# Write your program here\n"
      ]
    },
    {
      "cell_type": "markdown",
      "id": "c55c3014",
      "metadata": {},
      "source": [
        "### 3.6 Lists to Dictionary\n",
        "\n",
        "Write a program (or function) that maps two lists into a dictionary\n",
        "\n",
        "Sample first list: ```['Japan', 'Italy', 'United Kingdom', 'Russia']```\n",
        "\n",
        "Sample second list: ```[83.7, 82.7, 81.2, 70.5]```"
      ]
    },
    {
      "cell_type": "code",
      "execution_count": null,
      "id": "d64b6c57",
      "metadata": {},
      "outputs": [],
      "source": [
        "# Write your program here\n"
      ]
    },
    {
      "cell_type": "code",
      "execution_count": null,
      "id": "21721c55",
      "metadata": {},
      "outputs": [
        {
          "data": {
            "text/plain": [
              "{'Japan': 83.7, 'Italy': 82.7, 'United Kingdom': 81.2, 'Russia': 70.5}"
            ]
          },
          "metadata": {},
          "output_type": "display_data"
        }
      ],
      "source": [
        "create_dictionary_from_lists(['Japan', 'Italy', 'United Kingdom', 'Russia'],[83.7, 82.7, 81.2, 70.5] )"
      ]
    },
    {
      "cell_type": "code",
      "execution_count": null,
      "id": "4096d7f5",
      "metadata": {},
      "outputs": [
        {
          "name": "stdout",
          "output_type": "stream",
          "text": [
            "Resulted Dictionary: {'Japan': 83.7, 'Italy': 82.7, 'United Kingdom': 81.2, 'Russia': 70.5}\n"
          ]
        }
      ],
      "source": [
        "Dict_Key_Cty = ['Japan', 'Italy', 'United Kingdom', 'Russia']\n",
        "Dict_Val_Age =[83.7, 82.7, 81.2, 70.5]\n",
        "Dict_Result = []\n",
        "for items in range(0,len(Dict_Key_Cty)):\n",
        "    Dict_Result.append((Dict_Key_Cty[items],Dict_Val_Age[items]))\n",
        "print(\"Resulted Dictionary:\",dict(Dict_Result))"
      ]
    },
    {
      "cell_type": "markdown",
      "id": "837cb061",
      "metadata": {},
      "source": [
        "## Tuples"
      ]
    },
    {
      "cell_type": "markdown",
      "id": "b56b22db",
      "metadata": {},
      "source": [
        "### 3.7 Write a Python program to get the 4th element and 4th element from last of a tuple.\n",
        "\n",
        "Sample input\n",
        "\n",
        "```\n",
        "tuplex = (\"we\", 3, \"are\", \"left\", 4.8, \"our\", \"u\", \"www.ox.ac.uk\", \"core\", \"empty\")\n",
        "```"
      ]
    },
    {
      "cell_type": "code",
      "execution_count": null,
      "id": "d0aad51c",
      "metadata": {},
      "outputs": [],
      "source": [
        "tuplex = (\"we\", 3, \"are\", \"left\", 4.8, \"our\", \"u\", \"www.ox.ac.uk\", \"core\", \"empty\")"
      ]
    },
    {
      "cell_type": "code",
      "execution_count": null,
      "id": "f23d26d3",
      "metadata": {},
      "outputs": [
        {
          "name": "stdout",
          "output_type": "stream",
          "text": [
            "4th element: left\n",
            "4th element from last: u\n"
          ]
        }
      ],
      "source": [
        "# Write your solution here \n"
      ]
    },
    {
      "cell_type": "markdown",
      "id": "f655985e",
      "metadata": {},
      "source": [
        "### 3.8  Write a Python program to convert a list of tuples to a dictionary.\n",
        "\n",
        "Sample input: ```[(28, 'February'), (30, 'April'), (31, 'July'), (31, 'August'), (30, 'November')]```\n",
        "\n",
        "Sample output ```{'February': 28, 'April': 30, 'July': 31, 'August': 31, 'November': 30}```"
      ]
    },
    {
      "cell_type": "code",
      "execution_count": null,
      "id": "8c49a416",
      "metadata": {},
      "outputs": [],
      "source": [
        "tuples_list = [(28, 'February'), (30, 'April'), (31, 'July'), (31, 'August'), (30, 'November')]"
      ]
    },
    {
      "cell_type": "code",
      "execution_count": 1,
      "id": "975ef54e",
      "metadata": {},
      "outputs": [],
      "source": [
        "# Write your program here\n"
      ]
    },
    {
      "cell_type": "markdown",
      "id": "95774156",
      "metadata": {},
      "source": [
        "## `for` loops, list comprehension, dict comprehension"
      ]
    },
    {
      "cell_type": "markdown",
      "id": "1ddc0c37",
      "metadata": {},
      "source": [
        "### 3.9 List comprehension\n",
        "\n",
        "Rewrite the following code using list comprehension"
      ]
    },
    {
      "cell_type": "code",
      "execution_count": null,
      "id": "4935d24a",
      "metadata": {},
      "outputs": [
        {
          "name": "stdout",
          "output_type": "stream",
          "text": [
            "['the', 'quick', 'brown', 'fox', 'jumps', 'over', 'the', 'lazy', 'dog']\n",
            "[5, 5, 3, 5, 4, 4, 3]\n"
          ]
        }
      ],
      "source": [
        "# Code to be rewritten\n",
        "\n",
        "sentence = \"the quick brown fox jumps over the lazy dog\"\n",
        "words = sentence.split()\n",
        "word_lengths = []\n",
        "for word in words:\n",
        "      if word != \"the\":\n",
        "          word_lengths.append(len(word))\n",
        "print(words)\n",
        "print(word_lengths)"
      ]
    },
    {
      "cell_type": "code",
      "execution_count": null,
      "id": "b4245077",
      "metadata": {},
      "outputs": [
        {
          "name": "stdout",
          "output_type": "stream",
          "text": [
            "['the', 'quick', 'brown', 'fox', 'jumps', 'over', 'the', 'lazy', 'dog']\n",
            "[5, 5, 3, 5, 4, 4, 3]\n"
          ]
        }
      ],
      "source": [
        "# Write your solution here\n"
      ]
    },
    {
      "cell_type": "markdown",
      "id": "dd8a46bb",
      "metadata": {},
      "source": [
        "### 3.10 List filtering\n",
        "\n",
        "Using a list comprehension, create a new list called \"newlist\" out of the list \"numbers\", which contains only the positive numbers from the list, as integers rounded to the closest integer value."
      ]
    },
    {
      "cell_type": "code",
      "execution_count": null,
      "id": "4659c4e8",
      "metadata": {},
      "outputs": [],
      "source": [
        "### Input\n",
        "\n",
        "numbers = [34.6, -203.4, 44.9, 68.3, -12.2, 44.6, 12.7]\n",
        "\n",
        "### Write your solution here\n"
      ]
    },
    {
      "cell_type": "markdown",
      "id": "b0f0bc73",
      "metadata": {},
      "source": [
        "### 3.11 Matrix Element Wise-multiplication\n",
        "\n",
        "Matrices can be encoded as numerical two-dimensional lists\n",
        "Consider the two following matrices \n",
        "\n",
        "```\n",
        "mat_00 = [[1, 2, 3], [4, 5, 6], [7, 8, 9]]\n",
        "```\n",
        "and\n",
        "```\n",
        "mat_01 = [[1, 0, 0], [0, 1, 0], [0, 0, 1]]\n",
        "```\n",
        "\n",
        "Compute the element-wise multiplication of the two matrices, i.e.\n",
        "\n",
        "```\n",
        "mat_02 = [[1, 0, 0], [0, 5, 0], [0, 0, 9]]\n",
        "```"
      ]
    },
    {
      "cell_type": "code",
      "execution_count": null,
      "id": "64a0307e",
      "metadata": {},
      "outputs": [],
      "source": [
        "mat_00 = [[1, 2, 3], [4, 5, 6], [7, 8, 9]]\n",
        "mat_01 = [[1, 0, 0], [0, 1, 0], [0, 0, 1]]\n",
        "\n",
        "## Write your solution here:\n"
      ]
    },
    {
      "cell_type": "markdown",
      "id": "b6eeeea8",
      "metadata": {},
      "source": [
        "### 3.12 Matrix-Matrix Multiplication\n",
        "\n",
        "Consider the following two matrices\n",
        "\n",
        "```\n",
        "mat_00 = [[2, 1, 3], [1, 1, 2]]\n",
        "```\n",
        "and\n",
        "```\n",
        "A = [[1, 2], [5, 6], [7, 9]]\n",
        "```\n",
        "\n",
        "Compute the matrix multiplication, i.e.:\n",
        "```\n",
        "B = [[28 37] [20 26]]\n",
        "```\n",
        "\n"
      ]
    },
    {
      "cell_type": "code",
      "execution_count": null,
      "id": "3b0cbcaa",
      "metadata": {},
      "outputs": [],
      "source": [
        "A = [[2, 1, 3], [1, 1, 2]]\n",
        "B = [[1, 2], [5, 6], [7, 9]]\n",
        "\n",
        "# Write your solution here\n"
      ]
    },
    {
      "cell_type": "markdown",
      "id": "f328eea0",
      "metadata": {},
      "source": [
        "### 3.13 Dict comprehension\n",
        "\n",
        "Consider these four lists:\n",
        "```\n",
        "fellowship_names = ['gandalf', 'frodo', 'samwise', 'merry', 'aragorn', 'legolas', 'boromir', 'gimli', 'pippin']\n",
        "```\n",
        "```\n",
        "fellowship_surnames = [\n",
        "    'mithrandir', 'baggins', 'gamgee', 'brandybuck', 'elessar', \n",
        "    'greenleaf', 'son of denethor', 'son of gloin', 'took'\n",
        "]\n",
        "```\n",
        "```\n",
        "fellowship_species = ['maia', 'hobbit', 'hobbit', 'hobbit', 'man', 'elf', 'man', 'dwarf', 'hobbit']\n",
        "```\n",
        "```\n",
        "fellowship_ages = [inf, 51, 36, 37, 88, 800, 41, 140, 29]\n",
        "```\n",
        "\n",
        "1) Produce a dictionary with the mapping `fellowship_name` -> `fellowship_age`, pairing each element with the same index in the two lists\n",
        "\n",
        "2) Produce a dictionary with the mapping `(fellowship_name, fellowship_surname)` -> `fellowship_species`, pairing each element with the same index in the three lists"
      ]
    },
    {
      "cell_type": "code",
      "execution_count": null,
      "id": "984aabee",
      "metadata": {},
      "outputs": [],
      "source": [
        "from math import inf\n",
        "\n",
        "fellowship_names = ['gandalf', 'frodo', 'samwise', 'merry', 'aragorn', \n",
        "                    'legolas', 'boromir', 'gimli', 'pippin']\n",
        "fellowship_surnames = [\n",
        "    'mithrandir', 'baggins', 'gamgee', 'brandybuck', 'elessar', \n",
        "    'greenleaf', 'son of denethor', 'son of gloin', 'took'\n",
        "]\n",
        "fellowship_species = ['maia', 'hobbit', 'hobbit', 'hobbit', 'man', 'elf', 'man', 'dwarf', 'hobbit']\n",
        "\n",
        "fellowship_ages = [inf, 51, 36, 37, 88, 800, 41, 140, 29]\n",
        "\n",
        "# Write your solution here\n"
      ]
    }
  ],
  "metadata": {
    "colab": {
      "provenance": []
    },
    "kernelspec": {
      "display_name": "Python 3",
      "language": "python",
      "name": "python3"
    },
    "language_info": {
      "codemirror_mode": {
        "name": "ipython",
        "version": 3
      },
      "file_extension": ".py",
      "mimetype": "text/x-python",
      "name": "python",
      "nbconvert_exporter": "python",
      "pygments_lexer": "ipython3",
      "version": "3.9.6"
    }
  },
  "nbformat": 4,
  "nbformat_minor": 5
}
