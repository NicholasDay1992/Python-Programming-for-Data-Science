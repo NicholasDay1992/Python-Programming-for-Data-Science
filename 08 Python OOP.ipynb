{
  "cells": [
    {
      "cell_type": "markdown",
      "id": "f19a5467",
      "metadata": {},
      "source": [
        "<!-- <img src=\"https://www.conted.ox.ac.uk/www/static/images/oudce_logo.svg\" alt=\"OXF_logo_HTML\" width=\"300\"> \n",
        "-->\n",
        "\n",
        "<img src=\"data:image/png;base64,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\" alt=\"OXF_logo_HTML\" width=\"300\"> \n",
        "\n",
        "<h1>Python Programming for Data Science Introduction</h1>\n",
        "Weekly Oxford Worldwide (WOW) Course Format\n",
        "\n",
        "<style>\n",
        "div.scrollable {\n",
        "    height: 300px;  /* Adjust this value as needed */\n",
        "    overflow: auto;\n",
        "    border: 1px solid #ccc;  /* Optional: Adds a border */\n",
        "    padding: 10px;           /* Optional: Adds padding inside the box */\n",
        "}\n",
        "</style>"
      ]
    },
    {
      "cell_type": "markdown",
      "id": "1eba3b72",
      "metadata": {
        "id": "1eba3b72"
      },
      "source": [
        "# Lecture 8 Object Oriented Programming (OOP)"
      ]
    },
    {
      "cell_type": "markdown",
      "id": "b2f1ad8a",
      "metadata": {},
      "source": [
        "## Plan for the Lecture\n",
        "\n",
        "1. Object Oriented Programming Theory\n",
        "\n",
        "2. Classes and Objects in Python\n",
        "\n",
        "3. Inheritance\n"
      ]
    },
    {
      "cell_type": "markdown",
      "id": "918998f3",
      "metadata": {},
      "source": [
        "## 0.0 Reminder that you have seen classes before! "
      ]
    },
    {
      "cell_type": "code",
      "execution_count": null,
      "id": "b6572e47",
      "metadata": {},
      "outputs": [
        {
          "name": "stdout",
          "output_type": "stream",
          "text": [
            "<class 'int'>\n",
            "<class 'str'>\n"
          ]
        }
      ],
      "source": [
        "age = 30 \n",
        "print(type(age))\n",
        "name = \"Nick\" \n",
        "print(type(name)) "
      ]
    },
    {
      "cell_type": "markdown",
      "id": "fd2a87da",
      "metadata": {},
      "source": [
        "## 1.0 Object Oriented Programming Theory \n",
        "* The Object-Oriented Paradigm originated in the 1980s. \n",
        "\n",
        "* C++ was originally known as 'C with classes'.\n",
        "\n",
        "* Procedural programming would separate data from procedures. \n",
        "\n",
        "* Object Oriented Programming encapsulates both data and procedures into a package (an object).\n",
        "\n",
        "* As we have seen, Python build primitive types as classes: `int`, `str`, `float`, `bool`\n"
      ]
    },
    {
      "cell_type": "markdown",
      "id": "cae3ac65",
      "metadata": {},
      "source": [
        "<img src=\"https://media.dev.to/cdn-cgi/image/width=800%2Cheight=%2Cfit=scale-down%2Cgravity=auto%2Cformat=auto/https%3A%2F%2Fdev-to-uploads.s3.amazonaws.com%2Fuploads%2Farticles%2Fbpcvpxpcdqnxqn53n3zf.png\" alt=\"class_entity\" width=\"650\"> "
      ]
    },
    {
      "cell_type": "markdown",
      "id": "d96a571a",
      "metadata": {},
      "source": [
        "<img src=\"https://miro.medium.com/v2/resize:fit:1400/1*CM0Jy_kA06FwPx0O432RxA.png\" alt=\"classes_and_objects\" width=\"650\"> \n",
        "\n"
      ]
    },
    {
      "cell_type": "markdown",
      "id": "43191ba6",
      "metadata": {},
      "source": [
        "<img src=\"https://techbeamers.com/wp-content/uploads/2019/04/Java-Class-and-Object-Concept.png\" alt=\"classes_objects2\" width=\"650\"> "
      ]
    },
    {
      "cell_type": "markdown",
      "id": "46dd67ff",
      "metadata": {},
      "source": [
        "<img src=\"https://scaler.com/topics/images/What-is-class-768x659.webp\" alt=\"classes_objects2\" width=\"650\"> "
      ]
    },
    {
      "cell_type": "markdown",
      "id": "b6db8851",
      "metadata": {},
      "source": [
        "<img src=\"https://media.geeksforgeeks.org/wp-content/uploads/20220520121002/classdiagramaccount-660x604.jpg\" alt=\"classes_objects2\" width=\"650\"> "
      ]
    },
    {
      "cell_type": "markdown",
      "id": "bfbc8041",
      "metadata": {},
      "source": [
        "## 2.1 Classes and Objects\n",
        "\n",
        "* Let's start by modelling a familiar entity - yourselves! \n",
        "\n",
        "* We could build a `blueprint` for the `Student` entity\n"
      ]
    },
    {
      "cell_type": "code",
      "execution_count": null,
      "id": "cf62827b",
      "metadata": {},
      "outputs": [],
      "source": [
        "class Student:\n",
        "    name = \"Nick\""
      ]
    },
    {
      "cell_type": "markdown",
      "id": "2e9c9edc",
      "metadata": {},
      "source": [
        "We can call the `constructor` to build / initialise an object of this `Student` class. "
      ]
    },
    {
      "cell_type": "code",
      "execution_count": null,
      "id": "63833d93",
      "metadata": {},
      "outputs": [
        {
          "data": {
            "text/plain": [
              "'Nick'"
            ]
          },
          "metadata": {},
          "output_type": "display_data"
        }
      ],
      "source": [
        "nick_obj = Student()\n",
        "nick_obj.name"
      ]
    },
    {
      "cell_type": "code",
      "execution_count": null,
      "id": "8e3bb917",
      "metadata": {},
      "outputs": [],
      "source": [
        "class Student:\n",
        "    name = \"Nick\"\n",
        "    def print_name(self):\n",
        "        print(\"Hi Nick\") "
      ]
    },
    {
      "cell_type": "markdown",
      "id": "abec6755",
      "metadata": {},
      "source": [
        "Now that we have this class defined, we can instantiate an object from this blueprint."
      ]
    },
    {
      "cell_type": "code",
      "execution_count": null,
      "id": "f6175f34",
      "metadata": {},
      "outputs": [
        {
          "name": "stdout",
          "output_type": "stream",
          "text": [
            "Hi Nick\n"
          ]
        }
      ],
      "source": [
        "nick_obj = Student() # call constructor\n",
        "nick_obj.print_name() "
      ]
    },
    {
      "cell_type": "markdown",
      "id": "47d0c570",
      "metadata": {},
      "source": [
        "## 2.2 Object Addresses"
      ]
    },
    {
      "cell_type": "code",
      "execution_count": null,
      "id": "040e8d83",
      "metadata": {},
      "outputs": [
        {
          "name": "stdout",
          "output_type": "stream",
          "text": [
            "<__main__.Student object at 0x10442b8b0>\n"
          ]
        }
      ],
      "source": [
        "nick_obj = Student() # call constructor\n",
        "print(nick_obj)\n"
      ]
    },
    {
      "cell_type": "markdown",
      "id": "b7541296",
      "metadata": {},
      "source": [
        "## 2.3 Multiple Objects of the same Class\n",
        "\n",
        "* Notice below how we can create more than one object of the same class blueprint (structure).\n",
        "\n",
        "* Each object has its own unique memory address (hexedecimal printed below)\n",
        "\n",
        "* The object name stores this memory address - like a variable would store a value (an integer or a str value)"
      ]
    },
    {
      "cell_type": "code",
      "execution_count": null,
      "id": "4a5758b5",
      "metadata": {},
      "outputs": [
        {
          "name": "stdout",
          "output_type": "stream",
          "text": [
            "<__main__.Student object at 0x10428a6d0>\n",
            "<__main__.Student object at 0x1044821f0>\n"
          ]
        }
      ],
      "source": [
        "nick_obj = Student() # one object\n",
        "print(nick_obj)\n",
        "\n",
        "sam_obj = Student() # another object!\n",
        "print(sam_obj)"
      ]
    },
    {
      "cell_type": "code",
      "execution_count": null,
      "id": "4f0f363e",
      "metadata": {},
      "outputs": [
        {
          "name": "stdout",
          "output_type": "stream",
          "text": [
            "Hi Nick\n",
            "Hi Nick\n"
          ]
        }
      ],
      "source": [
        "nick_obj.print_name()\n",
        "sam_obj.print_name()"
      ]
    },
    {
      "cell_type": "markdown",
      "id": "35d61ad9",
      "metadata": {},
      "source": [
        "Problem... how should we address this?"
      ]
    },
    {
      "cell_type": "markdown",
      "id": "e096fdeb",
      "metadata": {},
      "source": [
        "## 2.4 The `self` reference\n",
        "\n",
        "* `self` can be substituted for any given object created of the class.\n",
        "\n",
        "* Rather than specifying one object that will be referred to every time the method is run, `self` can refer to the object that the method is being called on.\n",
        "\n",
        "* In Python, `self` is automatically passed (so we don’t have to), but it is received, so has to be defined in class methods.\n"
      ]
    },
    {
      "cell_type": "markdown",
      "id": "9a97e661",
      "metadata": {},
      "source": [
        "Let's update the `Student` class below with `self`:"
      ]
    },
    {
      "cell_type": "code",
      "execution_count": null,
      "id": "babe23db",
      "metadata": {},
      "outputs": [],
      "source": [
        "class Student:\n",
        "    def set_name(self, name):\n",
        "        self.name = name"
      ]
    },
    {
      "cell_type": "code",
      "execution_count": null,
      "id": "60700ef3",
      "metadata": {},
      "outputs": [
        {
          "name": "stdout",
          "output_type": "stream",
          "text": [
            "Nick\n"
          ]
        }
      ],
      "source": [
        "nick_obj = Student() # call constructor\n",
        "nick_obj.set_name(\"Nick\") \n",
        "print(nick_obj.name) "
      ]
    },
    {
      "cell_type": "code",
      "execution_count": null,
      "id": "7961bec8",
      "metadata": {},
      "outputs": [
        {
          "name": "stdout",
          "output_type": "stream",
          "text": [
            "Nick\n",
            "Sam\n"
          ]
        }
      ],
      "source": [
        "nick_obj = Student() # One object\n",
        "nick_obj.set_name(\"Nick\") \n",
        "print(nick_obj.name)\n",
        "\n",
        "sam_obj = Student() # Another object\n",
        "sam_obj.set_name(\"Sam\") \n",
        "print(sam_obj.name)"
      ]
    },
    {
      "cell_type": "markdown",
      "id": "0a916159",
      "metadata": {},
      "source": [
        "## 2.5 Constructor `__init__()`\n",
        "\n",
        "* A constructor is a method which has the same name as the class. \n",
        "\n",
        "* In Python, we can use the <b>dunder method</b> (double underscore) `__init__()` to refer to the constructor. \n",
        "\n",
        "* Dunder methods are called by the Python interpreter. It initialises the object and sets values for attributes (variables).\n",
        "\n",
        "* The constructor is called when we create an object of the class.\n",
        "\n",
        "* In Python we can still call the constructor (same name as the class). The Python interpreter then calls the `__init__()` method.\n",
        "\n"
      ]
    },
    {
      "cell_type": "markdown",
      "id": "fe9cfddc",
      "metadata": {},
      "source": [
        "Now let's 'set' the name of our student in this constructor `__init__()`\n",
        "\n",
        "We also have to include the `self` reference and the name to be passed in."
      ]
    },
    {
      "cell_type": "code",
      "execution_count": null,
      "id": "1dc86f78",
      "metadata": {},
      "outputs": [],
      "source": [
        "class Student:\n",
        "    def __init__(self, name, id):\n",
        "        self.name = name\n",
        "        self.id = id\n",
        "        \n",
        "    def print(self):\n",
        "        print(self.name)\n",
        "        print(self.id)"
      ]
    },
    {
      "cell_type": "markdown",
      "id": "9e0d32f7",
      "metadata": {},
      "source": [
        "Now, when we call the constructor to instantiate the object, we pass in the name via the parentheses `()`."
      ]
    },
    {
      "cell_type": "code",
      "execution_count": null,
      "id": "651f254e",
      "metadata": {},
      "outputs": [
        {
          "name": "stdout",
          "output_type": "stream",
          "text": [
            "Nick\n",
            "22342612\n"
          ]
        }
      ],
      "source": [
        "nick_obj = Student(\"Nick\", 22342612) \n",
        "nick_obj.print()"
      ]
    },
    {
      "cell_type": "markdown",
      "id": "8ae553ca",
      "metadata": {},
      "source": [
        "Now that we can customise the name for each object we can bring our earlier print method:"
      ]
    },
    {
      "cell_type": "code",
      "execution_count": null,
      "id": "3193010d",
      "metadata": {},
      "outputs": [],
      "source": [
        "class Student:\n",
        "    def __init__(self, name):\n",
        "        self.name = name\n",
        "        \n",
        "    def print_name(self):\n",
        "        print(self.name) "
      ]
    },
    {
      "cell_type": "markdown",
      "id": "f4c2adfa",
      "metadata": {},
      "source": [
        "Note: remember the indentation for each block (the functions that sit in the class)"
      ]
    },
    {
      "cell_type": "code",
      "execution_count": null,
      "id": "ec24a942",
      "metadata": {},
      "outputs": [
        {
          "name": "stdout",
          "output_type": "stream",
          "text": [
            "Nick\n",
            "Sam\n"
          ]
        }
      ],
      "source": [
        "nick_obj = Student(\"Nick\") \n",
        "nick_obj.print_name()\n",
        "\n",
        "sam_obj = Student(\"Sam\") \n",
        "sam_obj.print_name()"
      ]
    },
    {
      "cell_type": "code",
      "execution_count": null,
      "id": "fde0596c",
      "metadata": {},
      "outputs": [
        {
          "name": "stdout",
          "output_type": "stream",
          "text": [
            "Nick\n",
            "Sam\n"
          ]
        }
      ],
      "source": [
        "print(nick_obj.name) \n",
        "print(sam_obj.name) "
      ]
    },
    {
      "cell_type": "markdown",
      "id": "1ed62f96",
      "metadata": {},
      "source": [
        "## 3.0 Inheritance\n",
        "\n",
        "* In our social world; inheritance means the passing down of assets from generation to generation; children inherit from their parents.\n",
        "\n",
        "* In programming, inheritance is modelled by allowing 'child' classes to access variables and methods from the 'parent' class.\n",
        "\n",
        "* Furthermore, Children classes often extend (are specialist versions of) the Parent classes. \n",
        "\n"
      ]
    },
    {
      "cell_type": "markdown",
      "id": "268cc1a1",
      "metadata": {},
      "source": [
        "![uml_inheritance](https://templates.visual-paradigm.com/repository/images/81d68935-56bd-4798-b798-17c2e3e46ce7.png)"
      ]
    },
    {
      "cell_type": "markdown",
      "id": "1c99378f",
      "metadata": {},
      "source": [
        "* Java uses the key word `extends`:  \n",
        "  `ChildClass extends ParentClass`\n",
        "* C family languages use the `:` (colon) operator:   \n",
        "  `ChildClass : ParentClass`\n",
        "\n",
        "* In Python, we have to pass the Parent reference to the Child class.  \n",
        "  `ChildClass(ParentClass)`\n"
      ]
    },
    {
      "cell_type": "code",
      "execution_count": 31,
      "id": "02caa347",
      "metadata": {},
      "outputs": [],
      "source": [
        "class Parent:\n",
        "    def print(self):\n",
        "        print(\"Hi from Parent Class\") "
      ]
    },
    {
      "cell_type": "code",
      "execution_count": 32,
      "id": "6ee18d82",
      "metadata": {},
      "outputs": [],
      "source": [
        "class Child(Parent):\n",
        "    def print(self):\n",
        "        print(\"Hi from Child Class\") \n"
      ]
    },
    {
      "cell_type": "code",
      "execution_count": 33,
      "id": "36760262",
      "metadata": {},
      "outputs": [
        {
          "name": "stdout",
          "output_type": "stream",
          "text": [
            "Hi from Child Class\n"
          ]
        }
      ],
      "source": [
        "childobj = Child() # call constructor\n",
        "childobj.print() "
      ]
    },
    {
      "cell_type": "markdown",
      "id": "e0a51e5f",
      "metadata": {},
      "source": [
        "## 3.1 The `super()` reference\n",
        "\n",
        "* We’ve used the keyword `self` within class constructors to refer to variables of any given object that is created. \n",
        "\n",
        "* In an inheritance hierarchy, the child constructor may want to invoke the parent constructor to initialise values for inherited attributes. \n",
        "\n",
        "* The `super()` is a reference to the parent’s constructor. \n",
        "\n",
        "* You can also refer to attributes and functions through the `super()` reference.\n"
      ]
    },
    {
      "cell_type": "code",
      "execution_count": 34,
      "id": "934a9260",
      "metadata": {},
      "outputs": [],
      "source": [
        "class Parent:\n",
        "    def print(self):\n",
        "        print(\"Hi from Parent Class\") "
      ]
    },
    {
      "cell_type": "code",
      "execution_count": 35,
      "id": "ad42a85a",
      "metadata": {},
      "outputs": [],
      "source": [
        "class Child(Parent):\n",
        "    def print(self):\n",
        "        super().print()"
      ]
    },
    {
      "cell_type": "code",
      "execution_count": 36,
      "id": "91b3e841",
      "metadata": {},
      "outputs": [
        {
          "name": "stdout",
          "output_type": "stream",
          "text": [
            "Hi from Parent Class\n"
          ]
        }
      ],
      "source": [
        "child_obj = Child() # call constructor\n",
        "child_obj.print() "
      ]
    },
    {
      "cell_type": "markdown",
      "id": "a0a7da87",
      "metadata": {},
      "source": [
        "## 3.2 Inheritance Extension"
      ]
    },
    {
      "cell_type": "code",
      "execution_count": 39,
      "id": "608b60ea",
      "metadata": {},
      "outputs": [],
      "source": [
        "class Person: \n",
        "    def __init__(self, name):\n",
        "        self.name = name"
      ]
    },
    {
      "cell_type": "code",
      "execution_count": 38,
      "id": "b79a47b1",
      "metadata": {},
      "outputs": [],
      "source": [
        "class Student(Person):\n",
        "    def __init__(self, name):\n",
        "        super().__init__(name)"
      ]
    },
    {
      "cell_type": "code",
      "execution_count": 40,
      "id": "095704f6",
      "metadata": {},
      "outputs": [
        {
          "name": "stdout",
          "output_type": "stream",
          "text": [
            "Sam\n",
            "<class '__main__.Student'>\n"
          ]
        }
      ],
      "source": [
        "sam = Student(\"Sam\") \n",
        "print(sam.name) \n",
        "print(type(sam))"
      ]
    },
    {
      "cell_type": "code",
      "execution_count": 41,
      "id": "975dd0d5",
      "metadata": {},
      "outputs": [],
      "source": [
        "class Staff(Person):\n",
        "    def __init__(self, name):\n",
        "        super().__init__(name)"
      ]
    },
    {
      "cell_type": "code",
      "execution_count": 42,
      "id": "7b50e499",
      "metadata": {},
      "outputs": [
        {
          "name": "stdout",
          "output_type": "stream",
          "text": [
            "Nick\n",
            "<class '__main__.Staff'>\n"
          ]
        }
      ],
      "source": [
        "nick = Staff(\"Nick\")\n",
        "print(nick.name)\n",
        "print(type(nick))"
      ]
    },
    {
      "cell_type": "markdown",
      "id": "cb8dc33f",
      "metadata": {},
      "source": [
        "Whilst staff and students will have other common attributes (which we could add to the `Person` class): \n",
        "* First and last name \n",
        "\n",
        "* An ID number of the University\n",
        "\n",
        "* Both assigned to modules\n",
        "\n",
        "* Have a printing balance\n",
        "\n",
        "* A library account\n",
        "\n",
        "Let's focus on somethiing unique to each, so we can demonstrate specialism: \n",
        "\n",
        "* Students have an overall grade for their degree (+ individual marks for each module)\n",
        "\n",
        "* Staff attend meetings (a behaviour / method). They also have objectives set in their PDRs (an attribute)"
      ]
    },
    {
      "cell_type": "markdown",
      "id": "8aa49408",
      "metadata": {},
      "source": [
        "So let's add a `mark` attribute which is unique to the `Student` class:"
      ]
    },
    {
      "cell_type": "code",
      "execution_count": 44,
      "id": "6aef4b37",
      "metadata": {},
      "outputs": [],
      "source": [
        "class Student(Person):\n",
        "    def __init__(self, name, mark):\n",
        "        super().__init__(name) # common to both Student and Staff therefore stored in Person.\n",
        "        self.mark = mark # unique to Student therefore stored in self here.\n",
        "    \n",
        "    def get_mark(self):\n",
        "        print(self.mark)"
      ]
    },
    {
      "cell_type": "markdown",
      "id": "afc51f20",
      "metadata": {},
      "source": [
        "And let's add an `objective` attribute which is unqiue to the `Staff` class"
      ]
    },
    {
      "cell_type": "code",
      "execution_count": 43,
      "id": "bc3b0f8e",
      "metadata": {},
      "outputs": [],
      "source": [
        "class Staff(Person):\n",
        "    def __init__(self, name, objective):\n",
        "        super().__init__(name) # common to both Student and Staff therefore stored in Person.\n",
        "        self.objective = objective # unique to Staff therefore stored in self here.\n",
        "        \n",
        "    def get_objective(self):\n",
        "        print(self.objective)"
      ]
    },
    {
      "cell_type": "code",
      "execution_count": 45,
      "id": "2b757fd8",
      "metadata": {},
      "outputs": [
        {
          "name": "stdout",
          "output_type": "stream",
          "text": [
            "Nick\n",
            "Write a blended Computer Science Curriculum\n",
            "<class '__main__.Staff'>\n"
          ]
        }
      ],
      "source": [
        "nick = Staff(\"Nick\", \"Write a blended Computer Science Curriculum\")\n",
        "print(nick.name)\n",
        "nick.get_objective()\n",
        "print(type(nick))"
      ]
    },
    {
      "cell_type": "code",
      "execution_count": 46,
      "id": "2d3aabbb",
      "metadata": {},
      "outputs": [
        {
          "name": "stdout",
          "output_type": "stream",
          "text": [
            "Sam\n",
            "75\n",
            "<class '__main__.Student'>\n"
          ]
        }
      ],
      "source": [
        "sam = Student(\"Sam\", 75)\n",
        "print(sam.name)\n",
        "sam.get_mark()\n",
        "print(type(sam))"
      ]
    },
    {
      "cell_type": "markdown",
      "id": "25d207c4",
      "metadata": {},
      "source": [
        "Finally, for convenience, let's create a print method for each of the entities"
      ]
    },
    {
      "cell_type": "code",
      "execution_count": 1,
      "id": "177fe959",
      "metadata": {},
      "outputs": [],
      "source": [
        "class Person: \n",
        "    def __init__(self, name):\n",
        "        self.name = name\n",
        "        \n",
        "    def get_name(self):\n",
        "        return self.name"
      ]
    },
    {
      "cell_type": "code",
      "execution_count": 48,
      "id": "75131a66",
      "metadata": {},
      "outputs": [],
      "source": [
        "class Student(Person):\n",
        "    def __init__(self, name, mark):\n",
        "        super().__init__(name)\n",
        "        self.mark = mark\n",
        "    \n",
        "    def get_mark(self):\n",
        "        print(self.mark)\n",
        "        \n",
        "    def print(self):\n",
        "        \"\"\" Unique print method for Student attributes \"\"\"\n",
        "        print(super().get_name(), \"is a\", type(self))\n",
        "        print(\"Mark:\", self.mark)"
      ]
    },
    {
      "cell_type": "code",
      "execution_count": 49,
      "id": "860202f1",
      "metadata": {},
      "outputs": [],
      "source": [
        "class Staff(Person):\n",
        "    def __init__(self, name, objective):\n",
        "        super().__init__(name)\n",
        "        self.objective = objective\n",
        "        \n",
        "    def get_objective(self):\n",
        "        print(self.objective)\n",
        "        \n",
        "    def print(self): \n",
        "        \"\"\" Unique print method for Staff attributes \"\"\"\n",
        "        print(super().get_name(), \"is a\", type(self))\n",
        "        print(\"Objective:\", self.objective)\n",
        "        "
      ]
    },
    {
      "cell_type": "code",
      "execution_count": 50,
      "id": "93ba0da8",
      "metadata": {},
      "outputs": [
        {
          "name": "stdout",
          "output_type": "stream",
          "text": [
            "Nick is a <class '__main__.Staff'>\n",
            "Objective: Write a blended Computer Science Curriculum\n"
          ]
        }
      ],
      "source": [
        "nick = Staff(\"Nick\", \"Write a blended Computer Science Curriculum\")\n",
        "nick.print()"
      ]
    },
    {
      "cell_type": "code",
      "execution_count": 51,
      "id": "b08284e4",
      "metadata": {},
      "outputs": [
        {
          "name": "stdout",
          "output_type": "stream",
          "text": [
            "Sam is a <class '__main__.Student'>\n",
            "Mark: 75\n"
          ]
        }
      ],
      "source": [
        "sam = Student(\"Sam\", 75)\n",
        "sam.print()"
      ]
    },
    {
      "cell_type": "markdown",
      "id": "1fe7ddbc",
      "metadata": {},
      "source": [
        "So what we have here are the same data, but custom print methods each each child class `Student` and `Staff` that prints the relevant attribute data."
      ]
    },
    {
      "cell_type": "markdown",
      "id": "493996eb",
      "metadata": {},
      "source": [
        "## 3.3 Further inheritance examples\n",
        "\n",
        "- OO languages offer the posibility of 'extending' classes to more specialised types\n",
        "- This allows code from the generalised parent (or 'base') class to be reused in the 'inheriting' child (or 'derived') class\n",
        "- Thus a Hotel class could be a specialised form of a Property class\n",
        "- The Hotel class could have an extra attribute of a 'star' rating and an extra method to get_stars()\n",
        "- Python has a very concise syntax for object instantiation and inheritance \n",
        "- To inherit simply:\n",
        " 1. pass the base class as a parameter to the deriving class - e.g. `class Hotel(Property)`\n",
        " 2. inside the Hotel constructor add a call to the super class passing any parameters required - see `super().__init__(self, address, stars)`."
      ]
    },
    {
      "cell_type": "code",
      "execution_count": null,
      "id": "e5ab7189",
      "metadata": {},
      "outputs": [
        {
          "name": "stdout",
          "output_type": "stream",
          "text": [
            "\n",
            "Property address: 1 Leafy Lane\n",
            "Property type: Hotel\n",
            "Hotel stars: 5\n"
          ]
        }
      ],
      "source": [
        "# Super/base/parent/generalised class\n",
        "class Property:\n",
        "    def __init__(self, address, property_type):\n",
        "        self.ad = address\n",
        "        self.pt = property_type\n",
        "    def get_property_details(self):\n",
        "        print(\"\\nProperty address: %s\" % self.ad)\n",
        "        print(\"Property type: %s\" % self.pt)\n",
        "    def set_property_details(self, new_address, new_property_type):\n",
        "        self.ad = new_address\n",
        "        self.pt = new_property_type\n",
        "\n",
        "# Derived/child/specialised class - to extend base class pass this \"Hotel(Property)\" as a parameter\n",
        "class Hotel(Property):\n",
        "    # Hotel class will extend Property class and add a 'stars' rating\n",
        "    def __init__(self, address, stars):\n",
        "        # call the constructor on the superclass and set the address and the property type to \"Hotel\"\n",
        "        super().__init__(address, \"Hotel\")\n",
        "        # extend with a new 'stars' property\n",
        "        self.st=stars\n",
        "\n",
        "    # Add new method to get star rating\n",
        "    def get_stars(self):\n",
        "        print(\"Hotel stars: %s\" % self.st)\n",
        "\n",
        "# Test the derived Hotel class and methods inherited from the Property base class\n",
        "h1 = Hotel(\"1 Leafy Lane\", 5)\n",
        "h1.get_property_details()\n",
        "h1.get_stars()"
      ]
    },
    {
      "cell_type": "code",
      "execution_count": null,
      "id": "850d9c8b",
      "metadata": {},
      "outputs": [
        {
          "name": "stdout",
          "output_type": "stream",
          "text": [
            "Price: 100\n",
            "Mobile brand Samsung\n",
            "Price: 600\n",
            "Mobile brand iPhone\n",
            "Mobile screen size is: 110mm\n"
          ]
        }
      ],
      "source": [
        "# WORKED EXAMPLE 1 - Create a Phone class with 'price' and 'brand' properties and 'getPrice' and 'getBrand' methods.\n",
        "# Test by creating an instance\n",
        "class Phone:\n",
        "    def __init__(self, price, brand):\n",
        "        self.pr=price\n",
        "        self.br=brand\n",
        "    def get_price(self):\n",
        "        print(\"Price: %s\" % self.pr)\n",
        "    def get_brand(self):\n",
        "        print(\"Mobile brand %s\" % self.br)\n",
        "mob1=Phone(\"100\", \"Samsung\")\n",
        "mob1.get_price()\n",
        "mob1.get_brand()\n",
        "\n",
        "# WORKED EXAMPLE 2 - Use inheritance to create a Smartphone class that extends the Phone class with a new screenSize property and a new getScreenSize method\n",
        "# Test by creating an instance\n",
        "class SmartPhone(Phone):\n",
        "    def __init__(self, price, brand, screensize):\n",
        "        super().__init__(price, brand)\n",
        "        self.ss=screensize\n",
        "    def get_screen_size(self):\n",
        "        print(\"Mobile screen size is: %s\" % self.ss)\n",
        "mob2=SmartPhone(\"600\", \"iPhone\", \"110mm\")\n",
        "mob2.get_price()\n",
        "mob2.get_brand()\n",
        "mob2.get_screen_size()"
      ]
    },
    {
      "cell_type": "markdown",
      "id": "ca707df3",
      "metadata": {},
      "source": [
        "#### This Jupyter Notebook contains exercises for you to organise attributes and functions related to an entity into classes. You can then instantiate these classes (create objects) and assign unique values for these attributes. Attempt the following exercises, which slowly build in complexity. If you get stuck, check back to the <a href = \"https://youtu.be/druwXuJ-X4g?si=AuSmSu0RCVxdP8HC\"> Python lecture recording on Object Orientation here</a> or view the <a href = \"https://www.w3schools.com/python/python_classes.asp\">W3Schools page on Python Classes and Objects</a>, which includes examples, exercises and quizzes to help your understanding. \n"
      ]
    },
    {
      "cell_type": "markdown",
      "id": "d9b010fb",
      "metadata": {},
      "source": [
        "## Exercise - OOP Basics\n",
        "\n",
        "## Step 1:\n",
        "\n",
        "Below you will see a basic definition of a `Student` class. \n",
        "\n",
        "In the class definition below, write your name (as a `str`) where you see `...`. "
      ]
    },
    {
      "cell_type": "code",
      "execution_count": null,
      "id": "26e8bf6a",
      "metadata": {},
      "outputs": [],
      "source": [
        "class Student: \n",
        "    name = ... # assign your name here as a str value"
      ]
    },
    {
      "cell_type": "markdown",
      "id": "609689c9",
      "metadata": {},
      "source": [
        "Now call the constructor to `initialise` the object (construct the object). \n",
        "\n",
        "Hint: the constructor is a method with the same name as the class."
      ]
    },
    {
      "cell_type": "code",
      "execution_count": null,
      "id": "5e74b085",
      "metadata": {},
      "outputs": [],
      "source": [
        "obj = ... # Call the constructor here.\n",
        "obj.name  # print your name"
      ]
    },
    {
      "cell_type": "markdown",
      "id": "a8f05030",
      "metadata": {},
      "source": [
        "## Step 2:\n",
        "\n",
        "Now we'll add an initialisation method  ``` __init__() ``` (otherwise known as a constructor) to the `Student` class. \n",
        "\n",
        "In this constructor method, write a `print` statement that outputs a message (e.g. \"Student constructor called\"). If you're new to OOP, this will be helpful to let you know when the constructor has been called. \n",
        "\n",
        "Now create a new object by calling the constructor. If successful, you should see the message you wrote into the constructor.\n",
        "\n",
        "<b>Question:</b> If you see this output:  ``` <__main__.Student at 0x10422b3d0> ``` What does it refer to?"
      ]
    },
    {
      "cell_type": "code",
      "execution_count": null,
      "id": "40c8d4d6",
      "metadata": {},
      "outputs": [],
      "source": [
        "class Student: \n",
        "    def __init__(self):\n",
        "        ... # Write your print message here"
      ]
    },
    {
      "cell_type": "code",
      "execution_count": null,
      "id": "dcc364df",
      "metadata": {},
      "outputs": [
        {
          "name": "stdout",
          "output_type": "stream",
          "text": [
            "Student constructor called\n"
          ]
        },
        {
          "data": {
            "text/plain": [
              "<__main__.Student at 0x10422b3d0>"
            ]
          },
          "metadata": {},
          "output_type": "display_data"
        }
      ],
      "source": [
        "# Create an object by calling the constructor of Student here."
      ]
    },
    {
      "cell_type": "markdown",
      "id": "eeb95d41",
      "metadata": {},
      "source": [
        "## Step 3:\n",
        "Now modify the parameter list of the ```__init__()``` constructor for your `Student` class. \n",
        "\n",
        "Add variable names for the student's `name` and `id`. The values passed in as parameters will need to be stored in attributes of the `self` reference so they can be retreived. \n",
        "\n",
        "When you next call the constructor, you will have to supply values for these variables/attributes (name and id) in the paretheses of the constructor (values separated by a comma `,`).\n"
      ]
    },
    {
      "cell_type": "code",
      "execution_count": null,
      "id": "3cf15cb9",
      "metadata": {},
      "outputs": [],
      "source": [
        "# Write your solution here"
      ]
    },
    {
      "cell_type": "markdown",
      "id": "c81588e7",
      "metadata": {},
      "source": [
        "## Step 4:\n",
        "Now provide an object name for the reference that is returned from calling the constructor (self), and which you see you output so far. In this case, as the context is students, use your first name as the name of the object.\n",
        "\n",
        "As the attributes of self are public, you can refer to them directly. Print the name and id values which you assigned to the object (by passing to the constructor), through the name of the object (your firstname that you gave to the object)."
      ]
    },
    {
      "cell_type": "code",
      "execution_count": null,
      "id": "7478c88b",
      "metadata": {},
      "outputs": [],
      "source": [
        "# Write your solution here"
      ]
    },
    {
      "cell_type": "markdown",
      "id": "90ce83c1",
      "metadata": {},
      "source": [
        "## Step 5:\n",
        "Now reuse the same instructions in Step 3, to create two new objects which have unique names and id values. Print their details to the screen again (remember that each value is scoped to an object - make sure you refer to the right one!).\n",
        "\n",
        "(This step should illustrate the importance of defining a class structure that can be instantiated many times as objects)."
      ]
    },
    {
      "cell_type": "code",
      "execution_count": null,
      "id": "236b0479",
      "metadata": {},
      "outputs": [],
      "source": [
        "# Write your solution here"
      ]
    },
    {
      "cell_type": "markdown",
      "id": "008c9085",
      "metadata": {},
      "source": [
        "## Step 6:\n",
        "For the sake of efficiency, let's define a print function in the Student class that will output the name and id values of self. Feel free to format how you would like. \n",
        "\n",
        "Check this works by calling the Student's print function. <b> You'll need to create new objects though </b>"
      ]
    },
    {
      "cell_type": "code",
      "execution_count": null,
      "id": "ae423651",
      "metadata": {},
      "outputs": [],
      "source": [
        "# Write your solution here"
      ]
    },
    {
      "cell_type": "markdown",
      "id": "284e3ed9",
      "metadata": {},
      "source": [
        "* Now we should have a 'pattern' that we can reuse for defining classes and instantiating objects...\n",
        "\n",
        "* Whether that is defining your own classes to model entities in your scenario (e.g. an educational organisation).\n",
        "\n",
        "* Or indeed creating objects from Python class libraries such as `Scikit learn`, `pytorch` or `tensorflow` - you'll see more of this in the next course. :)"
      ]
    },
    {
      "cell_type": "markdown",
      "id": "7cee8ac8",
      "metadata": {},
      "source": [
        "## Exercise - `py` files \n",
        "\n",
        "Now move your Student class to a dedicated Python file `student.py`  \n",
        "  Create a new file named `main.py` and here insantiate the Student class.  \n",
        "\n",
        "You can run this script via terminal commands. First make sure your terminal is pointing to the correct file directory. You may need to `c`hange `d`irectory with the `cd` command. Once pointing to the correct directory, run the command `python main.py` in a VSC terminal to run the main.py - which should route to the main function. \n",
        "\n",
        "The convention for calling the main function: \n",
        "\n",
        "```\n",
        "if \"__main__\" == main():\n",
        "    main()\n",
        "```\n",
        "\n",
        "Alternatively, to keep things simple, you should also just be able to call main without condition - as you do for every function:\n",
        "```\n",
        "main()\n",
        "```\n"
      ]
    },
    {
      "cell_type": "code",
      "execution_count": null,
      "id": "56967eb1",
      "metadata": {},
      "outputs": [],
      "source": [
        "# Write your solution here or in a dedicated py file.\n"
      ]
    },
    {
      "cell_type": "markdown",
      "id": "438e1ec0",
      "metadata": {},
      "source": [
        "## Exericse - OOP \n",
        "\n",
        "Now create a `course.py` file that contains a Course class. \n",
        "\n",
        "This Course class should define a constructor that takes the course's name and code as arguments. Also define a print function that will output these values to screen for any object of the Course class.\n",
        "\n",
        "Test this by instantiating the class, creating an object for the course you are enrolled (`Python Programming for Data Science`). Call the constructor and pass the course name and code. Then call the Course's print method on your object to see the details on the screen. \n",
        "\n",
        "FYI: You can find the official OUDCE Course Codes (such as `\"O24P434COW\"`) on our website: <a href = \"https://www.conted.ox.ac.uk/courses/python-programming-for-data-science-introduction\"> under 'Course Details' </a>"
      ]
    },
    {
      "cell_type": "code",
      "execution_count": null,
      "id": "2f9185f6",
      "metadata": {},
      "outputs": [],
      "source": [
        "# Write your solution here or in a dedicated py file.\n"
      ]
    },
    {
      "cell_type": "markdown",
      "id": "771eb9f0",
      "metadata": {},
      "source": [
        "## Exercise - Inheritance \n",
        "\n",
        "In addition to your `student.py`, create a `staff.py` file which contains a `Staff` class. \n",
        "\n",
        "Create a `person.py` file, in which a `Person` class is the superclass of `Student` and `Staff`. \n",
        "\n",
        "Write your classes so that the `Student` and `Staff` inherit common attributes and methods from the `Person` class. \n"
      ]
    },
    {
      "cell_type": "code",
      "execution_count": null,
      "id": "63c06bba",
      "metadata": {},
      "outputs": [],
      "source": [
        "# Write your solution here or in a dedicated py file.\n"
      ]
    },
    {
      "cell_type": "markdown",
      "id": "7c57d0fa",
      "metadata": {},
      "source": [
        "## Extension Exercise \n",
        "\n",
        "Create a 'code' cell below. In this do the following:\n",
        "- Create a super class \"Person\" that takes three string and one integer parameters for first and second name, UK Postcode and age in years.\n",
        "- Give \"Person\" a method \"greeting\" that prints a statement along the lines \"Hello, my name is Freddy Jones. I am 22 years old and my postcode is HP6 7AJ\"\n",
        "- Create a \"Student\" class that extends/inherits \"Person\" and takes additional parameters for degree_subject and student_ID.\n",
        "- give \"Student\" a \"studentGreeting\" method that prints a statement along the lines \"My student ID is SN123456 and I am reading Computer Science\"\n",
        "- Use either Python {} format or C-type %s/%d notation to format output strings\n",
        "- Create 3 student objects and persist these in a list\n",
        "- Iterate over the three objects and call their \"greeting\" and \"studentGreeting\" methods\n",
        "- Output should be along the lines of the following\n",
        "\n",
        "```\n",
        "Hello, my name is Dick Turpin. I am 32 years old and my postcode is HP11 2JZ\n",
        "My student ID is DT123456 and I am reading Highway Robbery\n",
        " \n",
        "Hello, my name is Dorothy Turpin. I am 32 years old and my postcode is SO14 7AA\n",
        "My student ID is DT123457 and I am reading Law\n",
        " \n",
        "Hello, my name is Oliver Cromwell. I am 32 years old and my postcode is OX35 14RE\n",
        "My student ID is OC123456 and I am reading History\n",
        "```"
      ]
    },
    {
      "cell_type": "code",
      "execution_count": null,
      "id": "356e7fba",
      "metadata": {},
      "outputs": [],
      "source": [
        "# Write your solution here - use as many cells as you need."
      ]
    },
    {
      "cell_type": "markdown",
      "id": "5e4cb4e8",
      "metadata": {},
      "source": [
        "Extension: Can you move these classes declared here in this notebook to their own `.py` files? "
      ]
    },
    {
      "cell_type": "code",
      "execution_count": null,
      "id": "f69bbb23",
      "metadata": {},
      "outputs": [],
      "source": [
        "# from student import Student\n",
        "# Student()"
      ]
    }
  ],
  "metadata": {
    "colab": {
      "provenance": []
    },
    "kernelspec": {
      "display_name": "Python 3",
      "language": "python",
      "name": "python3"
    },
    "language_info": {
      "codemirror_mode": {
        "name": "ipython",
        "version": 3
      },
      "file_extension": ".py",
      "mimetype": "text/x-python",
      "name": "python",
      "nbconvert_exporter": "python",
      "pygments_lexer": "ipython3",
      "version": "3.9.6"
    }
  },
  "nbformat": 4,
  "nbformat_minor": 5
}
