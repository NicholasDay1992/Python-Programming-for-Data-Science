{
 "cells": [
  {
   "cell_type": "markdown",
   "metadata": {},
   "source": [
    "<!-- <img src=\"https://www.conted.ox.ac.uk/www/static/images/oudce_logo.svg\" alt=\"OXF_logo_HTML\" width=\"300\"> \n",
    "-->\n",
    "\n",
    "<img src=\"data:image/png;base64,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\" alt=\"OXF_logo_HTML\" width=\"300\"> \n",
    "\n",
    "<h1>Python Programming for Data Science Introduction</h1>\n",
    "Weekly Oxford Worldwide (WOW) Course Format\n",
    "\n",
    "<style>\n",
    "div.scrollable {\n",
    "    height: 300px;  /* Adjust this value as needed */\n",
    "    overflow: auto;\n",
    "    border: 1px solid #ccc;  /* Optional: Adds a border */\n",
    "    padding: 10px;           /* Optional: Adds padding inside the box */\n",
    "}\n",
    "</style>"
   ]
  },
  {
   "cell_type": "markdown",
   "metadata": {},
   "source": [
    "# Lecture 6 Pandas II"
   ]
  },
  {
   "cell_type": "markdown",
   "metadata": {},
   "source": [
    "## Plan for this lecture\n",
    "\n",
    "1. Split, Apply &  Combine \n",
    "\n",
    "2. Other techniques such as `filter()`, `transform()`, `agg()`\n",
    "\n",
    "3. Exercises"
   ]
  },
  {
   "cell_type": "code",
   "execution_count": null,
   "metadata": {},
   "outputs": [],
   "source": [
    "import numpy as np\n",
    "import pandas as pd"
   ]
  },
  {
   "cell_type": "markdown",
   "metadata": {},
   "source": [
    "Let's import the movies database again"
   ]
  },
  {
   "cell_type": "code",
   "execution_count": null,
   "metadata": {},
   "outputs": [],
   "source": [
    "imdb_movies = pd.read_csv(\"../datasets/imdb-movies.csv\")\n",
    "imdb_movies.set_index('Rank', inplace=True)\n",
    "imdb_movies.shape"
   ]
  },
  {
   "cell_type": "code",
   "execution_count": null,
   "metadata": {},
   "outputs": [],
   "source": [
    "imdb_movies.head()"
   ]
  },
  {
   "cell_type": "markdown",
   "metadata": {},
   "source": [
    "## Question: \n",
    "Which are the most and the least common genres in our dataset?"
   ]
  },
  {
   "cell_type": "code",
   "execution_count": null,
   "metadata": {},
   "outputs": [],
   "source": [
    "genre = imdb_movies.loc[1]['Genre']"
   ]
  },
  {
   "cell_type": "code",
   "execution_count": null,
   "metadata": {},
   "outputs": [],
   "source": [
    "genre"
   ]
  },
  {
   "cell_type": "markdown",
   "metadata": {},
   "source": [
    "Issue: genre is a comma separated string. We need to convert it to something more useful for our computations"
   ]
  },
  {
   "cell_type": "code",
   "execution_count": null,
   "metadata": {},
   "outputs": [],
   "source": [
    "genres = genre.split(',')\n",
    "genres"
   ]
  },
  {
   "cell_type": "markdown",
   "metadata": {},
   "source": [
    "## Exercise: \n",
    "Create a new column splitting the genres and saving them as a list"
   ]
  },
  {
   "cell_type": "code",
   "execution_count": null,
   "metadata": {},
   "outputs": [],
   "source": [
    "# complethe this code snippet\n",
    "imdb_movies['Genres'] = ..."
   ]
  },
  {
   "cell_type": "code",
   "execution_count": null,
   "metadata": {},
   "outputs": [],
   "source": [
    "imdb_movies.head()"
   ]
  },
  {
   "cell_type": "code",
   "execution_count": null,
   "metadata": {},
   "outputs": [],
   "source": [
    "del imdb_movies['Genre']"
   ]
  },
  {
   "cell_type": "code",
   "execution_count": null,
   "metadata": {},
   "outputs": [],
   "source": [
    "imdb_movies.head()"
   ]
  },
  {
   "cell_type": "markdown",
   "metadata": {},
   "source": [
    "Now the simlplest and most efficient way to count the genre occurrences is to \"explode\" them, tranforming each element in the `genres` lists into a separate row."
   ]
  },
  {
   "cell_type": "code",
   "execution_count": null,
   "metadata": {},
   "outputs": [],
   "source": [
    "imdb_movies_unwinded_genres = imdb_movies.explode('Genres').reset_index()\n",
    "imdb_movies_unwinded_genres"
   ]
  },
  {
   "cell_type": "markdown",
   "metadata": {},
   "source": [
    "## Exercise \n",
    "Count genre occurrences within the dataset. Plot the result as a bar plot. "
   ]
  },
  {
   "cell_type": "code",
   "execution_count": null,
   "metadata": {},
   "outputs": [],
   "source": [
    "# write the solution here"
   ]
  },
  {
   "cell_type": "markdown",
   "metadata": {},
   "source": [
    "We can do some extra exploration.\n",
    "**Challenge:** Let's find the movies with highest revenue over metascore ratio"
   ]
  },
  {
   "cell_type": "code",
   "execution_count": null,
   "metadata": {},
   "outputs": [],
   "source": [
    "# 1. Compute the Revenue / Metascore ratio\n",
    "\n",
    "revenue_to_metascore_ratio = ...\n",
    "revenue_to_metascore_ratio"
   ]
  },
  {
   "cell_type": "code",
   "execution_count": null,
   "metadata": {},
   "outputs": [],
   "source": [
    "# 2. Select only some relevant columns and add a \"Revenue/Metascore Ratio\" column\n",
    "imdb_movies_sorted_by_ratio = imdb_movies.loc[\n",
    "    :, ['Title', 'Director', 'Rating', 'Revenue (Millions)']\n",
    "]\n",
    "imdb_movies_sorted_by_ratio['Revenue/Metascore Ratio'] = revenue_to_metascore_ratio"
   ]
  },
  {
   "cell_type": "code",
   "execution_count": null,
   "metadata": {},
   "outputs": [],
   "source": [
    "# 3. Sort movies by descending \"revenue/metascore ratio\"\n",
    "imdb_movies_sorted_by_ratio.sort_values(\n",
    "    by='Revenue/Metascore Ratio',\n",
    "    inplace=True,\n",
    "    ascending=False\n",
    ")\n",
    "imdb_movies_sorted_by_ratio.head()"
   ]
  },
  {
   "cell_type": "markdown",
   "metadata": {},
   "source": [
    "## Exercise:\n",
    "Convert the \"actors\" field into a list and delete the old column"
   ]
  },
  {
   "cell_type": "code",
   "execution_count": null,
   "metadata": {},
   "outputs": [],
   "source": [
    "# write your solution here"
   ]
  },
  {
   "cell_type": "markdown",
   "metadata": {},
   "source": [
    "## Split, Apply, Combine"
   ]
  },
  {
   "cell_type": "code",
   "execution_count": null,
   "metadata": {},
   "outputs": [],
   "source": [
    "imdb_movies = pd.read_csv(\"../datasets/imdb-movies.csv\")\n",
    "imdb_movies.set_index('Rank', inplace=True)"
   ]
  },
  {
   "cell_type": "code",
   "execution_count": null,
   "metadata": {},
   "outputs": [],
   "source": [
    "imdb_movies.sample(3)"
   ]
  },
  {
   "cell_type": "markdown",
   "metadata": {},
   "source": [
    "### Which director generated the highest average income?\n",
    "\n",
    "The goal of our analysis will be to find which director generated on average more income.\n",
    "We will have to:\n",
    "\n",
    "1) split the dataframe according to movie director\n",
    "\n",
    "2) compute the average income per director\n",
    "\n",
    "3) combine the results"
   ]
  },
  {
   "cell_type": "code",
   "execution_count": null,
   "metadata": {},
   "outputs": [],
   "source": [
    "# Split\n",
    "COLUMNS_TO_SELECT = [\n",
    "    \"Runtime (Minutes)\",\n",
    "    \"Revenue (Millions)\",\n",
    "    \"Rating\",\n",
    "    \"Metascore\",\n",
    "    \"Director\"\n",
    "]\n",
    "grouped_by_director = imdb_movies[COLUMNS_TO_SELECT].groupby('Director')\n",
    "type(grouped_by_director)"
   ]
  },
  {
   "cell_type": "code",
   "execution_count": null,
   "metadata": {},
   "outputs": [],
   "source": [
    "grouped_by_director.describe()"
   ]
  },
  {
   "cell_type": "markdown",
   "metadata": {},
   "source": [
    "The `groups` attribute is a `dict` whose keys are the computed unique groups and corresponding values being the axis labels belonging to each group. In the above example we have:"
   ]
  },
  {
   "cell_type": "code",
   "execution_count": null,
   "metadata": {},
   "outputs": [],
   "source": [
    "grouped_by_director.groups"
   ]
  },
  {
   "cell_type": "code",
   "execution_count": null,
   "metadata": {},
   "outputs": [],
   "source": [
    "imdb_movies.loc[992]"
   ]
  },
  {
   "cell_type": "markdown",
   "metadata": {},
   "source": [
    "### Apply and combine phase\n",
    "\n",
    "After the group-by operation there are a wide range of options for the \"apply\" phase\n",
    "\n",
    "1) Aggregations using the `.aggregate()` or `.agg()` method of `DataFrameGroupBy`\n",
    "    a) as a special case you can use Pandas built-in aggregation methods (`count`, `mean`, etc...)\n",
    "    \n",
    "2) Transformations using the `.transform()` method\n",
    "\n",
    "3) Filtrations using the `.filter()` method\n",
    "\n",
    "4) A generalisation of the two above using the `.apply()` method\n",
    "\n",
    "In this case we will have to perform an aggregation."
   ]
  },
  {
   "cell_type": "code",
   "execution_count": null,
   "metadata": {},
   "outputs": [],
   "source": [
    "### Get the mean value for the three features for each director\n",
    "grouped_by_director.mean()"
   ]
  },
  {
   "cell_type": "markdown",
   "metadata": {},
   "source": [
    "Now we have all we need to find the director(s) with the highest average income"
   ]
  },
  {
   "cell_type": "code",
   "execution_count": null,
   "metadata": {},
   "outputs": [],
   "source": [
    "### Write the solution here\n"
   ]
  },
  {
   "cell_type": "markdown",
   "metadata": {},
   "source": [
    "## Exercise: \n",
    "\n",
    "Find the 10 directors which generated the highest and lowest average income, but filter out directors who have directed less than 3 movies"
   ]
  },
  {
   "cell_type": "code",
   "execution_count": null,
   "metadata": {
    "scrolled": true
   },
   "outputs": [],
   "source": [
    "imdb_movies.info()"
   ]
  },
  {
   "cell_type": "code",
   "execution_count": null,
   "metadata": {},
   "outputs": [],
   "source": [
    "# write your solution here...\n"
   ]
  },
  {
   "cell_type": "code",
   "execution_count": null,
   "metadata": {},
   "outputs": [],
   "source": []
  },
  {
   "cell_type": "code",
   "execution_count": null,
   "metadata": {},
   "outputs": [],
   "source": []
  },
  {
   "cell_type": "code",
   "execution_count": null,
   "metadata": {},
   "outputs": [],
   "source": []
  },
  {
   "cell_type": "markdown",
   "metadata": {},
   "source": [
    "## Other aggregation techniques"
   ]
  },
  {
   "cell_type": "markdown",
   "metadata": {},
   "source": [
    "With `.agg()` we can get more than one statistics at once"
   ]
  },
  {
   "cell_type": "code",
   "execution_count": null,
   "metadata": {},
   "outputs": [],
   "source": [
    "# Get all the statistics about directors\n",
    "directors_stats = grouped_by_director.agg([np.mean, np.median, np.std])\n",
    "directors_stats"
   ]
  },
  {
   "cell_type": "code",
   "execution_count": null,
   "metadata": {},
   "outputs": [],
   "source": [
    "# get all the statistics about Runtime\n",
    "directors_stats.loc[:, \"Runtime (Minutes)\"]"
   ]
  },
  {
   "cell_type": "code",
   "execution_count": null,
   "metadata": {},
   "outputs": [],
   "source": [
    "# get all the average Runtime for actor movies\n",
    "directors_stats.loc[:, \"Runtime (Minutes)\"][\"mean\"].sort_values(ascending=False)"
   ]
  },
  {
   "cell_type": "markdown",
   "metadata": {},
   "source": [
    "It is also possible to compute customised statistics (i.e. write your own functions)"
   ]
  },
  {
   "cell_type": "code",
   "execution_count": null,
   "metadata": {},
   "outputs": [],
   "source": [
    "custom_directors_stats = grouped_by_director.agg([\n",
    "    lambda x: x.max() - x.min(),\n",
    "    lambda x: x.mean() - x.median()\n",
    "])\n",
    "custom_directors_stats"
   ]
  },
  {
   "cell_type": "markdown",
   "metadata": {},
   "source": [
    "The issue is that the generated stats do not have meaningful names.\n",
    "\n",
    "If you want to provide names to the generated columns you need to use the `pd.NamedAgg` construct."
   ]
  },
  {
   "cell_type": "code",
   "execution_count": null,
   "metadata": {},
   "outputs": [],
   "source": [
    "## Named aggregations\n",
    "\n",
    "# Get all the statistics about directors\n",
    "custom_directors_stats = grouped_by_director.agg(\n",
    "    runtime_min_max_diff=pd.NamedAgg(\n",
    "        column=\"Runtime (Minutes)\",\n",
    "        aggfunc=lambda x: x.max() - x.min()\n",
    "    ),\n",
    "    runtime_mean_median_diff=pd.NamedAgg(\n",
    "        column=\"Runtime (Minutes)\",\n",
    "        aggfunc=lambda x: x.mean() - x.median()\n",
    "    )\n",
    ")\n",
    "custom_directors_stats"
   ]
  },
  {
   "cell_type": "markdown",
   "metadata": {},
   "source": [
    "### Data Transformation with `.transform()`"
   ]
  },
  {
   "cell_type": "markdown",
   "metadata": {},
   "source": [
    "The `.transform()` method returns an object that is indexed the same (same size) as the one being grouped. \n",
    "\n",
    "#### Which 10 movies have earned more with respect to the average yearly movie revenue of the year they came out?"
   ]
  },
  {
   "cell_type": "code",
   "execution_count": null,
   "metadata": {},
   "outputs": [],
   "source": [
    "COLUMNS_TO_SELECT = [\n",
    "    \"Runtime (Minutes)\",\n",
    "    \"Revenue (Millions)\",\n",
    "    \"Rating\",\n",
    "    \"Metascore\",\n",
    "    \"Year\"\n",
    "]\n",
    "res = imdb_movies[COLUMNS_TO_SELECT].groupby(\"Year\").transform(lambda x: x - x.mean())\n",
    "res"
   ]
  },
  {
   "cell_type": "code",
   "execution_count": null,
   "metadata": {},
   "outputs": [],
   "source": [
    "# insert the title column at the beginning of the DF\n",
    "res.insert(loc=0, column='Title', value=imdb_movies['Title'])\n",
    "\n",
    "# show first 10 movies by mean-normalised revenue, descending\n",
    "res.sort_values(by=\"Revenue (Millions)\", ascending=False).head(10)"
   ]
  },
  {
   "cell_type": "markdown",
   "metadata": {},
   "source": [
    "### Filtration with `.filter()`\n",
    "\n",
    "The filter method returns a subset of the original object.\n",
    "\n",
    "##### <b>Exercise</b>: get all the movies by Directors whose average rating is higher than 7.5"
   ]
  },
  {
   "cell_type": "code",
   "execution_count": null,
   "metadata": {},
   "outputs": [],
   "source": [
    "# write your solution here\n"
   ]
  },
  {
   "cell_type": "markdown",
   "metadata": {},
   "source": [
    "### More generic operations with `.apply()`\n",
    "\n",
    "The generic `.apply()` method can be used in lieu of either `.aggregate()` and `.transform()` in many standard use cases.\n",
    "\n",
    "However, apply can handle some exceptional use cases, as in the example below:"
   ]
  },
  {
   "cell_type": "code",
   "execution_count": null,
   "metadata": {},
   "outputs": [],
   "source": [
    "grouped_by_director = imdb_movies.groupby('Director')[\"Revenue (Millions)\"]\n",
    "type(grouped_by_director)"
   ]
  },
  {
   "cell_type": "code",
   "execution_count": null,
   "metadata": {},
   "outputs": [],
   "source": [
    "def func(group: pd.Series) -> pd.DataFrame:\n",
    "    return pd.DataFrame({\n",
    "        'original': group,\n",
    "        'mean_normalized': group - group.mean(),\n",
    "        'median_normalized': group - group.median()\n",
    "    })\n",
    "\n",
    "grouped_by_director.apply(func)"
   ]
  },
  {
   "cell_type": "markdown",
   "metadata": {},
   "source": [
    "### Multi-indexing\n",
    "\n",
    "Lets' suppose we have an experimenyal scenatio with three groups two test groups and one control group.\n",
    "\n",
    "Each group has three subjects\n",
    "\n",
    "We will use the group as the first level in our hierarchical index and the subject as the second level."
   ]
  },
  {
   "cell_type": "code",
   "execution_count": null,
   "metadata": {},
   "outputs": [],
   "source": [
    "index_lists = [\n",
    "    [\n",
    "        'control', 'control', 'control', \n",
    "        'test_first', 'test_first', 'test_first', \n",
    "        'test_second', 'test_second', 'test_second'\n",
    "    ],\n",
    "    [\n",
    "        'subj_0', 'subj_1', 'subj_2',\n",
    "        'subj_0', 'subj_1', 'subj_2',\n",
    "        'subj_0', 'subj_1', 'subj_2',\n",
    "    ]\n",
    "]\n",
    "tups = list(zip(*index_lists))\n",
    "tups"
   ]
  },
  {
   "cell_type": "markdown",
   "metadata": {},
   "source": [
    "We use `MultiIndex.from_tuples()` to create out hierarchical index"
   ]
  },
  {
   "cell_type": "code",
   "execution_count": null,
   "metadata": {},
   "outputs": [],
   "source": [
    "index = pd.MultiIndex.from_tuples(tups)\n",
    "index"
   ]
  },
  {
   "cell_type": "markdown",
   "metadata": {},
   "source": [
    "We simulate to features/variables observed on our subjects using random distributions"
   ]
  },
  {
   "cell_type": "code",
   "execution_count": null,
   "metadata": {},
   "outputs": [],
   "source": [
    "data = np.array([np.random.uniform(120, 180, 9), np.random.uniform(60, 100, 9)]).T\n",
    "data"
   ]
  },
  {
   "cell_type": "code",
   "execution_count": null,
   "metadata": {},
   "outputs": [],
   "source": [
    "df = pd.DataFrame(\n",
    "    data=data, \n",
    "    columns=['systolic blood pressure', 'diastolic blood pressure'], \n",
    "    index=index\n",
    ")\n",
    "df"
   ]
  },
  {
   "cell_type": "markdown",
   "metadata": {},
   "source": [
    "### Computational Tools\n",
    "\n",
    "There are functions to compute covariance and correlation matrices, similar to the NumPy ones."
   ]
  },
  {
   "cell_type": "code",
   "execution_count": null,
   "metadata": {},
   "outputs": [],
   "source": [
    "imdb_movies.cov()"
   ]
  },
  {
   "cell_type": "code",
   "execution_count": null,
   "metadata": {},
   "outputs": [],
   "source": [
    "imdb_movies.corr()"
   ]
  },
  {
   "cell_type": "markdown",
   "metadata": {},
   "source": [
    "The `.rank()` method can be used to rank items inside a group:"
   ]
  },
  {
   "cell_type": "code",
   "execution_count": null,
   "metadata": {},
   "outputs": [],
   "source": [
    "imdb_movies['Most Profitable By Director Rank'] = imdb_movies \\\n",
    "    .groupby('Director')['Revenue (Millions)'] \\\n",
    "    .rank(method='first')"
   ]
  },
  {
   "cell_type": "code",
   "execution_count": null,
   "metadata": {},
   "outputs": [],
   "source": [
    "imdb_movies.sort_values(\n",
    "    ['Director', 'Most Profitable By Director Rank']\n",
    ")[['Title', 'Director', 'Revenue (Millions)', 'Most Profitable By Director Rank']].tail(10)"
   ]
  },
  {
   "cell_type": "code",
   "execution_count": null,
   "metadata": {},
   "outputs": [],
   "source": []
  }
 ],
 "metadata": {
  "kernelspec": {
   "display_name": "Python 3 (ipykernel)",
   "language": "python",
   "name": "python3"
  },
  "language_info": {
   "codemirror_mode": {
    "name": "ipython",
    "version": 3
   },
   "file_extension": ".py",
   "mimetype": "text/x-python",
   "name": "python",
   "nbconvert_exporter": "python",
   "pygments_lexer": "ipython3",
   "version": "3.11.5"
  }
 },
 "nbformat": 4,
 "nbformat_minor": 2
}
